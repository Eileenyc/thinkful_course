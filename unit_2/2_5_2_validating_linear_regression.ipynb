{
 "cells": [
  {
   "cell_type": "markdown",
   "metadata": {},
   "source": [
    "# 2.5.2 [Challenge: Validating a linear regression](https://courses.thinkful.com/data-201v1/project/2.5.2)\n",
    "\n",
    "Iterate on model from [2.4.4](https://github.com/Eileenyc/thinkful_course/blob/master/unit_2/2_4_4_crime_regression_model.ipynb)\n",
    "\n",
    "[Download the Excel file here](https://ucr.fbi.gov/crime-in-the-u.s/2013/crime-in-the-u.s.-2013/tables/table-8/table-8-state-cuts/table_8_offenses_known_to_law_enforcement_new_york_by_city_2013.xls) on crime data in New York State in 2013, provided by the FBI: UCR ([Thinkful mirror](https://raw.githubusercontent.com/Thinkful-Ed/data-201-resources/master/New_York_offenses/NEW_YORK-Offenses_Known_to_Law_Enforcement_by_City_2013%20-%2013tbl8ny.csv)).\n",
    "\n",
    "Assess model on new dataset using holdout or cross-validation.\n",
    "\n",
    "Goal: Model with consistent R-squared and only statistically significant parameters across multiple samples. \n",
    "\n",
    "Use other stats crime rates for 2013 or crime rates in New York State in other years. \n",
    "\n",
    "Create revised model and test both old and new models on a new holdout or set of folds.\n",
    "\n",
    "Include your models and brief write up of the reasoning behind the validation method you chose and changes you made. "
   ]
  },
  {
   "cell_type": "code",
   "execution_count": 81,
   "metadata": {},
   "outputs": [],
   "source": [
    "import math\n",
    "import warnings\n",
    "import pandas as pd\n",
    "import numpy as np\n",
    "from sklearn import preprocessing\n",
    "import matplotlib.pyplot as plt\n",
    "\n",
    "from sklearn import linear_model\n",
    "from sklearn.model_selection import cross_val_score, train_test_split, KFold, cross_val_predict\n",
    "from sklearn import ensemble, tree\n",
    "from sklearn.metrics import r2_score\n",
    "import statsmodels.formula.api as smf\n",
    "from IPython.display import display\n",
    "\n",
    "\n",
    "# Display preferences.\n",
    "%matplotlib inline\n",
    "pd.options.display.float_format = '{:.3f}'.format\n",
    "\n",
    "# Suppress annoying harmless error.\n",
    "warnings.filterwarnings(\n",
    "    action=\"ignore\",\n",
    "    module=\"scipy\",\n",
    "    message=\"^internal gelsd\"\n",
    ")"
   ]
  },
  {
   "cell_type": "code",
   "execution_count": 7,
   "metadata": {},
   "outputs": [],
   "source": [
    "# Grab and process the raw data.\n",
    "data_path = (\"unit_2_data/ny_crime_data.csv\"\n",
    "            )\n",
    "df_crime = pd.read_csv(data_path, header=None, delimiter=',')\n",
    "df_crime.columns = list(df_crime.iloc[4,:])\n",
    "df_crime.columns = df_crime.columns.str.replace('\\n', '_').str.replace(' ', '_').str.lower()\n",
    "df_crime = df_crime.rename({'murder_and_nonnegligent_manslaughter':'murder',\n",
    "                           'larceny-_theft':'larceny',\n",
    "                           'arson3':'arson'},axis='columns')\n",
    "\n",
    "df_crime = pd.concat([df_crime.iloc[5:-3,0:4],df_crime.iloc[5:-3,6:-1]],axis=1).reset_index(drop=True)\n",
    "\n",
    "for crime in list(df_crime.columns[1:]):\n",
    "    df_crime[crime] = df_crime[crime].str.replace(',','').astype('int64')\n",
    "    \n",
    "crime_list = df_crime.columns[2:]\n",
    "\n",
    "for crime in crime_list:\n",
    "    df_crime[crime + str('_per_capita')] = df_crime[crime]/df_crime['population']\n",
    "    \n",
    "# create flags for >0 crimes\n",
    "for crime in crime_list:\n",
    "    df_crime[crime+str('_flag')] = np.where(df_crime[crime]>0,1,0)\n",
    "    \n",
    "df_crime['population_squared'] = df_crime['population']**2 \n",
    "\n",
    "df_crime = df_crime.loc[df_crime['city']!='New York'].reset_index(drop=True)"
   ]
  },
  {
   "cell_type": "markdown",
   "metadata": {},
   "source": [
    "## Used RandomForest to evaluate feature importance"
   ]
  },
  {
   "cell_type": "code",
   "execution_count": 109,
   "metadata": {},
   "outputs": [
    {
     "name": "stdout",
     "output_type": "stream",
     "text": [
      "[0.88931979 0.84422424 0.30404544 0.9037787  0.7247789 ]\n",
      "0.9664231742761831\n"
     ]
    },
    {
     "data": {
      "text/html": [
       "<div>\n",
       "<style scoped>\n",
       "    .dataframe tbody tr th:only-of-type {\n",
       "        vertical-align: middle;\n",
       "    }\n",
       "\n",
       "    .dataframe tbody tr th {\n",
       "        vertical-align: top;\n",
       "    }\n",
       "\n",
       "    .dataframe thead th {\n",
       "        text-align: right;\n",
       "    }\n",
       "</style>\n",
       "<table border=\"1\" class=\"dataframe\">\n",
       "  <thead>\n",
       "    <tr style=\"text-align: right;\">\n",
       "      <th></th>\n",
       "      <th>importance</th>\n",
       "      <th>features</th>\n",
       "    </tr>\n",
       "  </thead>\n",
       "  <tbody>\n",
       "    <tr>\n",
       "      <th>4</th>\n",
       "      <td>0.206</td>\n",
       "      <td>population_squared</td>\n",
       "    </tr>\n",
       "    <tr>\n",
       "      <th>2</th>\n",
       "      <td>0.194</td>\n",
       "      <td>violent_crime</td>\n",
       "    </tr>\n",
       "    <tr>\n",
       "      <th>3</th>\n",
       "      <td>0.191</td>\n",
       "      <td>robbery</td>\n",
       "    </tr>\n",
       "    <tr>\n",
       "      <th>5</th>\n",
       "      <td>0.162</td>\n",
       "      <td>murder</td>\n",
       "    </tr>\n",
       "    <tr>\n",
       "      <th>0</th>\n",
       "      <td>0.157</td>\n",
       "      <td>population</td>\n",
       "    </tr>\n",
       "    <tr>\n",
       "      <th>1</th>\n",
       "      <td>0.090</td>\n",
       "      <td>aggravated_assault</td>\n",
       "    </tr>\n",
       "  </tbody>\n",
       "</table>\n",
       "</div>"
      ],
      "text/plain": [
       "   importance            features\n",
       "4       0.206  population_squared\n",
       "2       0.194       violent_crime\n",
       "3       0.191             robbery\n",
       "5       0.162              murder\n",
       "0       0.157          population\n",
       "1       0.090  aggravated_assault"
      ]
     },
     "execution_count": 109,
     "metadata": {},
     "output_type": "execute_result"
    }
   ],
   "source": [
    "X = df_crime[['population','aggravated_assault','violent_crime', 'robbery', 'population_squared', 'murder']]\n",
    "y = df_crime['property_crime']\n",
    "\n",
    "rfr = ensemble.RandomForestRegressor(max_depth=7,\n",
    "                                     \n",
    "                                     n_estimators=10)\n",
    "rfr.fit(X, y)\n",
    "#print(\"--- %s seconds ---\" % (time.time() - start_time))\n",
    "\n",
    "\n",
    "prediction = rfr.predict(X)\n",
    "print(cross_val_score(rfr, X=X, y=y, cv=5))\n",
    "print(r2_score(prediction, y))\n",
    "\n",
    "dt_features = pd.DataFrame(data={'importance':rfr.feature_importances_, 'features':X.columns})\n",
    "dt_features.sort_values(by='importance', ascending=False)"
   ]
  },
  {
   "cell_type": "markdown",
   "metadata": {},
   "source": [
    "Using what I learned from the Random Forest tried out combinations of top features until the p_values of the features included in the model were all less than 0.05. The p_value for the ftest was also less than 0.05 but the actually f-value was pretty large which I think is bad. Additionally the R_squared was low but population explains variance in crime most strongly and since population was removed from this relationship the opportunity to  explain more variance is limited "
   ]
  },
  {
   "cell_type": "code",
   "execution_count": 112,
   "metadata": {
    "scrolled": false
   },
   "outputs": [
    {
     "name": "stdout",
     "output_type": "stream",
     "text": [
      "\n",
      "Parameters:\n",
      "Intercept                  0.010\n",
      "violent_crime_per_capita   2.973\n",
      "robbery_flag               0.009\n",
      "dtype: float64\n",
      "\n",
      "P-Values:\n",
      "Intercept                  0.000\n",
      "violent_crime_per_capita   0.000\n",
      "robbery_flag               0.000\n",
      "dtype: float64\n",
      "\n",
      "R-squared\n",
      "0.37559327510469187\n",
      "                             0     1\n",
      "Intercept                0.008 0.012\n",
      "violent_crime_per_capita 2.219 3.726\n",
      "robbery_flag             0.006 0.012\n",
      "\n",
      "F-value:\n",
      "68.87406602915397\n",
      "\n",
      "F p_value:\n",
      "3.810982637024007e-24\n"
     ]
    }
   ],
   "source": [
    "linear_formula = 'property_crime_per_capita ~ violent_crime_per_capita\\\n",
    "+robbery_flag'\n",
    "\n",
    "lm = smf.ols(formula=linear_formula, data=train).fit()\n",
    "print('\\nParameters:')\n",
    "print(lm.params)\n",
    "\n",
    "print('\\nP-Values:')\n",
    "print(lm.pvalues)\n",
    "\n",
    "print('\\nR-squared')\n",
    "print(lm.rsquared)\n",
    "\n",
    "print(lm.conf_int())\n",
    "\n",
    "print('\\nF-value:')\n",
    "print(lm.fvalue)\n",
    "\n",
    "print('\\nF p_value:')\n",
    "print(lm.f_pvalue)"
   ]
  },
  {
   "cell_type": "code",
   "execution_count": 43,
   "metadata": {},
   "outputs": [
    {
     "data": {
      "text/plain": [
       "Index(['city', 'population', 'violent_crime', 'murder', 'robbery',\n",
       "       'aggravated_assault', 'property_crime', 'burglary', 'larceny',\n",
       "       'motor_vehicle_theft', 'violent_crime_per_capita', 'murder_per_capita',\n",
       "       'robbery_per_capita', 'aggravated_assault_per_capita',\n",
       "       'property_crime_per_capita', 'burglary_per_capita',\n",
       "       'larceny_per_capita', 'motor_vehicle_theft_per_capita',\n",
       "       'violent_crime_flag', 'murder_flag', 'robbery_flag',\n",
       "       'aggravated_assault_flag', 'property_crime_flag', 'burglary_flag',\n",
       "       'larceny_flag', 'motor_vehicle_theft_flag', 'population_squared'],\n",
       "      dtype='object')"
      ]
     },
     "execution_count": 43,
     "metadata": {},
     "output_type": "execute_result"
    }
   ],
   "source": [
    "df_crime.columns"
   ]
  },
  {
   "cell_type": "code",
   "execution_count": 91,
   "metadata": {},
   "outputs": [],
   "source": [
    "crime_features = ['population', 'violent_crime', 'murder', 'robbery',\n",
    "       'aggravated_assault', 'violent_crime_per_capita', 'murder_per_capita',\n",
    "       'robbery_per_capita', 'aggravated_assault_per_capita',\n",
    "       'violent_crime_flag', 'murder_flag', 'robbery_flag',\n",
    "       'aggravated_assault_flag', 'population_squared']"
   ]
  }
 ],
 "metadata": {
  "kernelspec": {
   "display_name": "Python 3",
   "language": "python",
   "name": "python3"
  },
  "language_info": {
   "codemirror_mode": {
    "name": "ipython",
    "version": 3
   },
   "file_extension": ".py",
   "mimetype": "text/x-python",
   "name": "python",
   "nbconvert_exporter": "python",
   "pygments_lexer": "ipython3",
   "version": "3.6.5"
  }
 },
 "nbformat": 4,
 "nbformat_minor": 2
}
