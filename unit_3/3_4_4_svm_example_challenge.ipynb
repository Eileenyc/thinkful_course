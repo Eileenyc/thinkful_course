{
 "cells": [
  {
   "cell_type": "markdown",
   "metadata": {},
   "source": [
    "# 3.4.4 [SVM Guided Example & Challenge](https://courses.thinkful.com/data-201v1/project/3.4.4)"
   ]
  },
  {
   "cell_type": "code",
   "execution_count": 1,
   "metadata": {},
   "outputs": [],
   "source": [
    "import numpy as np\n",
    "import pandas as pd\n",
    "import scipy\n",
    "import matplotlib.pyplot as plt\n",
    "import seaborn as sns\n",
    "%matplotlib inline\n",
    "\n",
    "from sklearn.svm import SVC, SVR\n",
    "from sklearn.model_selection import cross_val_score\n",
    "\n",
    "#import sklearn\n",
    "\n",
    "from sklearn import ensemble"
   ]
  },
  {
   "cell_type": "markdown",
   "metadata": {},
   "source": [
    "# Challenge \n",
    "### Transform this regression problem into a binary classifier\n",
    "### Clean up the features set"
   ]
  },
  {
   "cell_type": "markdown",
   "metadata": {},
   "source": [
    "Can we use the ingredient and keyword list to predict the ratings from epidurious collection of recipes\n",
    "\n",
    "* from a ratings perspective there are just over 20,000 recipes \n",
    "* average rating of 371\n",
    "* 25th percentile is actually above the mean -> suggests outlier population\n",
    "\n",
    "\n",
    "Fits what we know about reviews: some bad recipes have very few very low reviews"
   ]
  },
  {
   "cell_type": "code",
   "execution_count": 20,
   "metadata": {},
   "outputs": [],
   "source": [
    "raw_data = pd.read_csv('unit_3_data/epi_r.csv')\n",
    "test_data = raw_data"
   ]
  },
  {
   "cell_type": "code",
   "execution_count": 68,
   "metadata": {
    "scrolled": true
   },
   "outputs": [
    {
     "data": {
      "text/plain": [
       "<matplotlib.lines.Line2D at 0x1a49a0b6a0>"
      ]
     },
     "execution_count": 68,
     "metadata": {},
     "output_type": "execute_result"
    },
    {
     "data": {
      "image/png": "[encoded data removed]",
      "text/plain": [
       "<Figure size 432x288 with 1 Axes>"
      ]
     },
     "metadata": {},
     "output_type": "display_data"
    }
   ],
   "source": [
    "count_terms.review_count.hist(bins=20)\n",
    "plt.axvline(x=362.88)"
   ]
  },
  {
   "cell_type": "code",
   "execution_count": 7,
   "metadata": {},
   "outputs": [
    {
     "data": {
      "text/plain": [
       "count    20052.000000\n",
       "mean         3.714467\n",
       "std          1.340829\n",
       "min          0.000000\n",
       "25%          3.750000\n",
       "50%          4.375000\n",
       "75%          4.375000\n",
       "max          5.000000\n",
       "Name: rating, dtype: float64"
      ]
     },
     "execution_count": 7,
     "metadata": {},
     "output_type": "execute_result"
    }
   ],
   "source": [
    "raw_data.rating.describe()"
   ]
  },
  {
   "cell_type": "code",
   "execution_count": 35,
   "metadata": {},
   "outputs": [
    {
     "data": {
      "text/plain": [
       "rating\n",
       "0.000    1836\n",
       "1.250     164\n",
       "1.875     124\n",
       "2.500     532\n",
       "3.125    1489\n",
       "3.750    5169\n",
       "4.375    8019\n",
       "5.000    2719\n",
       "Name: dummy, dtype: int64"
      ]
     },
     "execution_count": 35,
     "metadata": {},
     "output_type": "execute_result"
    }
   ],
   "source": [
    "raw_data['dummy'] = 1\n",
    "raw_data.groupby(['rating']).sum()['dummy']"
   ]
  },
  {
   "cell_type": "markdown",
   "metadata": {},
   "source": [
    "## Clean Data"
   ]
  },
  {
   "cell_type": "code",
   "execution_count": 9,
   "metadata": {},
   "outputs": [
    {
     "data": {
      "text/plain": [
       "calories    4117\n",
       "protein     4162\n",
       "fat         4183\n",
       "sodium      4119\n",
       "dtype: int64"
      ]
     },
     "execution_count": 9,
     "metadata": {},
     "output_type": "execute_result"
    }
   ],
   "source": [
    "# count nulls\n",
    "null_count = raw_data.isnull().sum()\n",
    "null_count[null_count>0]"
   ]
  },
  {
   "cell_type": "code",
   "execution_count": 9,
   "metadata": {},
   "outputs": [
    {
     "data": {
      "text/plain": [
       "high_rating\n",
       "0.0     9314\n",
       "1.0    10738\n",
       "Name: dummy, dtype: int64"
      ]
     },
     "execution_count": 9,
     "metadata": {},
     "output_type": "execute_result"
    }
   ],
   "source": [
    "raw_data['dummy'] =1\n",
    "raw_data['high_rating']=np.where(raw_data.rating >= 4.0,1.0, 0.0)\n",
    "raw_data.groupby(['high_rating']).sum()['dummy']"
   ]
  },
  {
   "cell_type": "code",
   "execution_count": 28,
   "metadata": {},
   "outputs": [],
   "source": [
    "raw_data = pd.read_csv('unit_3_data/epi_r.csv')\n",
    "test_data = raw_data"
   ]
  },
  {
   "cell_type": "code",
   "execution_count": 26,
   "metadata": {
    "scrolled": true
   },
   "outputs": [],
   "source": [
    "for x in test_data.columns[6:]:\n",
    "    test_data[x] = np.where(test_data[x]==1.0, test_data.rating, 'Nan')\n",
    "\n",
    "\n",
    "ingredients = []\n",
    "average = []\n",
    "count = []\n",
    "\n",
    "for x in test_data.columns[6:]:\n",
    "    ingredients.append(x)\n",
    "    average.append(test_data[test_data[x] != 'Nan'][x].values.astype('float').mean())\n",
    "    count.append(len(test_data[test_data[x] != 'Nan'][x]))\n",
    "\n",
    "ingredients_mean = pd.DataFrame(data={'indredients':ingredients, 'average_rating':average, 'frequency':count})\n",
    "ingredients_mean = ingredients_mean.sort_values(by='average_rating', ascending=False).reset_index(drop=True)\n",
    "ingredients_mean = ingredients_mean[ingredients_mean['frequency']>273].reset_index(drop=True)\n",
    "\n",
    "\n",
    "top_20 = ingredients_mean.iloc[:20,0].values\n",
    "bottom_20 = ingredients_mean.iloc[-20:,0].values\n",
    "\n",
    "raw_data = pd.read_csv('unit_3_data/epi_r.csv')\n",
    "\n",
    "raw_data['high_rating'] = np.where(raw_data['rating']>=4.0,1,0)"
   ]
  },
  {
   "cell_type": "code",
   "execution_count": 261,
   "metadata": {},
   "outputs": [
    {
     "data": {
      "text/plain": [
       "array([0.5355273 , 0.53477936, 0.53527799, 0.53516209, 0.53554502])"
      ]
     },
     "execution_count": 261,
     "metadata": {},
     "output_type": "execute_result"
    }
   ],
   "source": [
    "# Model with top 20\n",
    "X = raw_data[top_20]\n",
    "Y = raw_data['high_rating']\n",
    "\n",
    "rfc = ensemble.RandomForestClassifier(max_depth=4,\n",
    "                                      n_estimators=6)\n",
    "rfc.fit(X,Y)\n",
    "cross_val_score(rfc, X, Y, cv=5)"
   ]
  },
  {
   "cell_type": "code",
   "execution_count": 259,
   "metadata": {},
   "outputs": [
    {
     "data": {
      "image/png": "[encoded data removed]",
      "text/plain": [
       "<Figure size 432x288 with 1 Axes>"
      ]
     },
     "metadata": {},
     "output_type": "display_data"
    }
   ],
   "source": [
    "# Find best Random Forest parameters to be used for feature selection\n",
    "X = raw_data[np.concatenate((bottom_20, top_20), axis=None)]\n",
    "Y = raw_data['high_rating']\n",
    "\n",
    "\n",
    "depth = []\n",
    "svc_score = []\n",
    "# Run Lasso\n",
    "for lambd in np.arange(1, 10, 1):\n",
    "    depth.append(lambd)\n",
    "    rfc = ensemble.RandomForestClassifier(max_depth=4,\n",
    "                                      n_estimators=lambd)\n",
    "    \n",
    "    rfc.fit(X, Y)\n",
    "    svc_score.append(rfc.score(X, Y))\n",
    "    \n",
    "# Make the data pretty.\n",
    "df_lasso = pd.DataFrame(data = {'lasso':svc_score,\n",
    "                                'penalty': depth}\n",
    "                          )\n",
    "df_lasso.sort_values(by='penalty', inplace=True, ascending=True)\n",
    "\n",
    "# Plot a line for each parameter.\n",
    "\n",
    "plt.plot(df_lasso['penalty'], df_lasso['lasso'])\n",
    "plt.xlabel('estimators')\n",
    "plt.ylabel('Accuracy Score')\n",
    "plt.title('Random Forest Relationship of Estimators and Accuracy Score')\n",
    "plt.show()\n"
   ]
  },
  {
   "cell_type": "code",
   "execution_count": 36,
   "metadata": {},
   "outputs": [
    {
     "data": {
      "image/png": "[encoded data removed]",
      "text/plain": [
       "<Figure size 432x288 with 1 Axes>"
      ]
     },
     "metadata": {},
     "output_type": "display_data"
    }
   ],
   "source": [
    "# Find best depth for Random Forest\n",
    "X = raw_data[np.concatenate((bottom_20, top_20), axis=None)]\n",
    "Y = raw_data['high_rating']\n",
    "\n",
    "\n",
    "depth = []\n",
    "accuracy = []\n",
    "# Run Lasso\n",
    "for lambd in np.arange(1, 10, 1):\n",
    "    depth.append(lambd)\n",
    "    rfc = ensemble.RandomForestClassifier(max_depth=lambd,\n",
    "                                      n_estimators=4)\n",
    "    \n",
    "    rfc.fit(X, Y)\n",
    "    accuracy.append(rfc.score(X, Y))\n",
    "    \n",
    "# Make the data pretty.\n",
    "forest = pd.DataFrame(data = {'accuracy_score':accuracy,\n",
    "                                'penalty': depth}\n",
    "                          )\n",
    "forest.sort_values(by='penalty', inplace=True, ascending=True)\n",
    "\n",
    "# Plot a line for each parameter.\n",
    "\n",
    "plt.plot(forest['penalty'], forest['accuracy_score'])\n",
    "plt.xlabel('Tree Depth')\n",
    "plt.ylabel('Accuracy Score')\n",
    "plt.title('Random Forest Relationship of Tree Depth and Accuracy Score')\n",
    "plt.show()"
   ]
  },
  {
   "cell_type": "code",
   "execution_count": 40,
   "metadata": {},
   "outputs": [],
   "source": [
    "# Feature Evaluation of top and bottom 20 Using Random Forest\n",
    "\n",
    "X = raw_data[np.concatenate((bottom_20, top_20), axis=None)]\n",
    "Y = raw_data['high_rating']\n",
    "\n",
    "rfc = ensemble.RandomForestClassifier(max_depth=4,\n",
    "                                      n_estimators=6)\n",
    "rfc.fit(X,Y)\n",
    "#cross_val_score(rfc, X, Y, cv=5)\n",
    "feature_list = pd.DataFrame(data={'importance':rfc.feature_importances_, 'features':X.columns})\n",
    "\n",
    "feature_list = feature_list.sort_values(by='importance', ascending=False).reset_index(drop=True).iloc[0:10,1]"
   ]
  },
  {
   "cell_type": "code",
   "execution_count": 35,
   "metadata": {},
   "outputs": [
    {
     "data": {
      "text/plain": [
       "array([0.55472451, 0.55746697, 0.55771628, 0.55785536, 0.55699676])"
      ]
     },
     "execution_count": 35,
     "metadata": {},
     "output_type": "execute_result"
    }
   ],
   "source": [
    "# Model with top 20 and bottome 20\n",
    "X = raw_data[np.concatenate((bottom_20, top_20), axis=None)]\n",
    "Y = raw_data['high_rating']\n",
    "svc = SVC(C=2, gamma='auto', kernel='rbf')\n",
    "svc.fit(X,Y)\n",
    "\n",
    "cross_val_score(svc, X, Y, cv=5)"
   ]
  },
  {
   "cell_type": "code",
   "execution_count": 48,
   "metadata": {},
   "outputs": [
    {
     "data": {
      "text/plain": [
       "array([0.54574919, 0.55272999, 0.55272999, 0.54837905, 0.55350461])"
      ]
     },
     "execution_count": 48,
     "metadata": {},
     "output_type": "execute_result"
    }
   ],
   "source": [
    "# Model with top 20 and bottome 20\n",
    "X = raw_data[feature_list]\n",
    "Y = raw_data['high_rating']\n",
    "svc = SVC(C=2, gamma='auto', kernel='rbf')\n",
    "svc.fit(X,Y)\n",
    "\n",
    "cross_val_score(svc, X, Y, cv=5)"
   ]
  },
  {
   "cell_type": "code",
   "execution_count": 49,
   "metadata": {},
   "outputs": [
    {
     "ename": "ValueError",
     "evalue": "Number of features of the model must match the input. Model n_features is 40 and input n_features is 10 ",
     "output_type": "error",
     "traceback": [
      "\u001b[0;31m---------------------------------------------------------------------------\u001b[0m",
      "\u001b[0;31mValueError\u001b[0m                                Traceback (most recent call last)",
      "\u001b[0;32m<ipython-input-49-cc46d7b86186>\u001b[0m in \u001b[0;36m<module>\u001b[0;34m()\u001b[0m\n\u001b[1;32m     10\u001b[0m     \u001b[0msvc\u001b[0m \u001b[0;34m=\u001b[0m \u001b[0mSVC\u001b[0m\u001b[0;34m(\u001b[0m\u001b[0mC\u001b[0m\u001b[0;34m=\u001b[0m\u001b[0mlambd\u001b[0m\u001b[0;34m,\u001b[0m \u001b[0mgamma\u001b[0m\u001b[0;34m=\u001b[0m\u001b[0;34m'auto'\u001b[0m\u001b[0;34m,\u001b[0m \u001b[0mkernel\u001b[0m\u001b[0;34m=\u001b[0m\u001b[0;34m'rbf'\u001b[0m\u001b[0;34m)\u001b[0m\u001b[0;34m\u001b[0m\u001b[0m\n\u001b[1;32m     11\u001b[0m     \u001b[0msvc\u001b[0m\u001b[0;34m.\u001b[0m\u001b[0mfit\u001b[0m\u001b[0;34m(\u001b[0m\u001b[0mX\u001b[0m\u001b[0;34m,\u001b[0m \u001b[0mY\u001b[0m\u001b[0;34m)\u001b[0m\u001b[0;34m\u001b[0m\u001b[0m\n\u001b[0;32m---> 12\u001b[0;31m     \u001b[0msvc_score\u001b[0m\u001b[0;34m.\u001b[0m\u001b[0mappend\u001b[0m\u001b[0;34m(\u001b[0m\u001b[0mrfc\u001b[0m\u001b[0;34m.\u001b[0m\u001b[0mscore\u001b[0m\u001b[0;34m(\u001b[0m\u001b[0mX\u001b[0m\u001b[0;34m,\u001b[0m \u001b[0mY\u001b[0m\u001b[0;34m)\u001b[0m\u001b[0;34m)\u001b[0m\u001b[0;34m\u001b[0m\u001b[0m\n\u001b[0m\u001b[1;32m     13\u001b[0m \u001b[0;34m\u001b[0m\u001b[0m\n\u001b[1;32m     14\u001b[0m \u001b[0;31m# Make the data pretty.\u001b[0m\u001b[0;34m\u001b[0m\u001b[0;34m\u001b[0m\u001b[0m\n",
      "\u001b[0;32m/anaconda3/lib/python3.6/site-packages/sklearn/base.py\u001b[0m in \u001b[0;36mscore\u001b[0;34m(self, X, y, sample_weight)\u001b[0m\n\u001b[1;32m    347\u001b[0m         \"\"\"\n\u001b[1;32m    348\u001b[0m         \u001b[0;32mfrom\u001b[0m \u001b[0;34m.\u001b[0m\u001b[0mmetrics\u001b[0m \u001b[0;32mimport\u001b[0m \u001b[0maccuracy_score\u001b[0m\u001b[0;34m\u001b[0m\u001b[0m\n\u001b[0;32m--> 349\u001b[0;31m         \u001b[0;32mreturn\u001b[0m \u001b[0maccuracy_score\u001b[0m\u001b[0;34m(\u001b[0m\u001b[0my\u001b[0m\u001b[0;34m,\u001b[0m \u001b[0mself\u001b[0m\u001b[0;34m.\u001b[0m\u001b[0mpredict\u001b[0m\u001b[0;34m(\u001b[0m\u001b[0mX\u001b[0m\u001b[0;34m)\u001b[0m\u001b[0;34m,\u001b[0m \u001b[0msample_weight\u001b[0m\u001b[0;34m=\u001b[0m\u001b[0msample_weight\u001b[0m\u001b[0;34m)\u001b[0m\u001b[0;34m\u001b[0m\u001b[0m\n\u001b[0m\u001b[1;32m    350\u001b[0m \u001b[0;34m\u001b[0m\u001b[0m\n\u001b[1;32m    351\u001b[0m \u001b[0;34m\u001b[0m\u001b[0m\n",
      "\u001b[0;32m/anaconda3/lib/python3.6/site-packages/sklearn/ensemble/forest.py\u001b[0m in \u001b[0;36mpredict\u001b[0;34m(self, X)\u001b[0m\n\u001b[1;32m    536\u001b[0m             \u001b[0mThe\u001b[0m \u001b[0mpredicted\u001b[0m \u001b[0mclasses\u001b[0m\u001b[0;34m.\u001b[0m\u001b[0;34m\u001b[0m\u001b[0m\n\u001b[1;32m    537\u001b[0m         \"\"\"\n\u001b[0;32m--> 538\u001b[0;31m         \u001b[0mproba\u001b[0m \u001b[0;34m=\u001b[0m \u001b[0mself\u001b[0m\u001b[0;34m.\u001b[0m\u001b[0mpredict_proba\u001b[0m\u001b[0;34m(\u001b[0m\u001b[0mX\u001b[0m\u001b[0;34m)\u001b[0m\u001b[0;34m\u001b[0m\u001b[0m\n\u001b[0m\u001b[1;32m    539\u001b[0m \u001b[0;34m\u001b[0m\u001b[0m\n\u001b[1;32m    540\u001b[0m         \u001b[0;32mif\u001b[0m \u001b[0mself\u001b[0m\u001b[0;34m.\u001b[0m\u001b[0mn_outputs_\u001b[0m \u001b[0;34m==\u001b[0m \u001b[0;36m1\u001b[0m\u001b[0;34m:\u001b[0m\u001b[0;34m\u001b[0m\u001b[0m\n",
      "\u001b[0;32m/anaconda3/lib/python3.6/site-packages/sklearn/ensemble/forest.py\u001b[0m in \u001b[0;36mpredict_proba\u001b[0;34m(self, X)\u001b[0m\n\u001b[1;32m    576\u001b[0m         \u001b[0mcheck_is_fitted\u001b[0m\u001b[0;34m(\u001b[0m\u001b[0mself\u001b[0m\u001b[0;34m,\u001b[0m \u001b[0;34m'estimators_'\u001b[0m\u001b[0;34m)\u001b[0m\u001b[0;34m\u001b[0m\u001b[0m\n\u001b[1;32m    577\u001b[0m         \u001b[0;31m# Check data\u001b[0m\u001b[0;34m\u001b[0m\u001b[0;34m\u001b[0m\u001b[0m\n\u001b[0;32m--> 578\u001b[0;31m         \u001b[0mX\u001b[0m \u001b[0;34m=\u001b[0m \u001b[0mself\u001b[0m\u001b[0;34m.\u001b[0m\u001b[0m_validate_X_predict\u001b[0m\u001b[0;34m(\u001b[0m\u001b[0mX\u001b[0m\u001b[0;34m)\u001b[0m\u001b[0;34m\u001b[0m\u001b[0m\n\u001b[0m\u001b[1;32m    579\u001b[0m \u001b[0;34m\u001b[0m\u001b[0m\n\u001b[1;32m    580\u001b[0m         \u001b[0;31m# Assign chunk of trees to jobs\u001b[0m\u001b[0;34m\u001b[0m\u001b[0;34m\u001b[0m\u001b[0m\n",
      "\u001b[0;32m/anaconda3/lib/python3.6/site-packages/sklearn/ensemble/forest.py\u001b[0m in \u001b[0;36m_validate_X_predict\u001b[0;34m(self, X)\u001b[0m\n\u001b[1;32m    355\u001b[0m                                  \"call `fit` before exploiting the model.\")\n\u001b[1;32m    356\u001b[0m \u001b[0;34m\u001b[0m\u001b[0m\n\u001b[0;32m--> 357\u001b[0;31m         \u001b[0;32mreturn\u001b[0m \u001b[0mself\u001b[0m\u001b[0;34m.\u001b[0m\u001b[0mestimators_\u001b[0m\u001b[0;34m[\u001b[0m\u001b[0;36m0\u001b[0m\u001b[0;34m]\u001b[0m\u001b[0;34m.\u001b[0m\u001b[0m_validate_X_predict\u001b[0m\u001b[0;34m(\u001b[0m\u001b[0mX\u001b[0m\u001b[0;34m,\u001b[0m \u001b[0mcheck_input\u001b[0m\u001b[0;34m=\u001b[0m\u001b[0;32mTrue\u001b[0m\u001b[0;34m)\u001b[0m\u001b[0;34m\u001b[0m\u001b[0m\n\u001b[0m\u001b[1;32m    358\u001b[0m \u001b[0;34m\u001b[0m\u001b[0m\n\u001b[1;32m    359\u001b[0m     \u001b[0;34m@\u001b[0m\u001b[0mproperty\u001b[0m\u001b[0;34m\u001b[0m\u001b[0m\n",
      "\u001b[0;32m/anaconda3/lib/python3.6/site-packages/sklearn/tree/tree.py\u001b[0m in \u001b[0;36m_validate_X_predict\u001b[0;34m(self, X, check_input)\u001b[0m\n\u001b[1;32m    382\u001b[0m                              \u001b[0;34m\"match the input. Model n_features is %s and \"\u001b[0m\u001b[0;34m\u001b[0m\u001b[0m\n\u001b[1;32m    383\u001b[0m                              \u001b[0;34m\"input n_features is %s \"\u001b[0m\u001b[0;34m\u001b[0m\u001b[0m\n\u001b[0;32m--> 384\u001b[0;31m                              % (self.n_features_, n_features))\n\u001b[0m\u001b[1;32m    385\u001b[0m \u001b[0;34m\u001b[0m\u001b[0m\n\u001b[1;32m    386\u001b[0m         \u001b[0;32mreturn\u001b[0m \u001b[0mX\u001b[0m\u001b[0;34m\u001b[0m\u001b[0m\n",
      "\u001b[0;31mValueError\u001b[0m: Number of features of the model must match the input. Model n_features is 40 and input n_features is 10 "
     ]
    }
   ],
   "source": [
    "X = raw_data[feature_list]\n",
    "Y = raw_data['high_rating']\n",
    "svc = SVC()\n",
    "\n",
    "penalty = []\n",
    "svc_score = []\n",
    "# Run SVC\n",
    "for lambd in np.arange(1, 10, 1):\n",
    "    penalty.append(lambd)\n",
    "    svc = SVC(C=lambd, gamma='auto', kernel='rbf') \n",
    "    svc.fit(X, Y)\n",
    "    svc_score.append(rfc.score(X, Y))\n",
    "    \n",
    "# Make the data pretty.\n",
    "df_svc = pd.DataFrame(data = {'svc':svc_score,\n",
    "                            'penalty': penalty}\n",
    "                          )\n",
    "df_svc.sort_values(by='penalty', inplace=True, ascending=True)\n",
    "\n",
    "# Plot a line for each parameter.\n",
    "\n",
    "plt.plot(df_svc['penalty'], df_svc['svc'])\n",
    "plt.xlabel('Penalty')\n",
    "plt.ylabel('Accuracy Score')\n",
    "plt.title('SVC Relationship between Penalty and Accuracy Score')\n",
    "plt.show()"
   ]
  }
 ],
 "metadata": {
  "kernelspec": {
   "display_name": "Python 3",
   "language": "python",
   "name": "python3"
  },
  "language_info": {
   "codemirror_mode": {
    "name": "ipython",
    "version": 3
   },
   "file_extension": ".py",
   "mimetype": "text/x-python",
   "name": "python",
   "nbconvert_exporter": "python",
   "pygments_lexer": "ipython3",
   "version": "3.6.5"
  }
 },
 "nbformat": 4,
 "nbformat_minor": 2
}
