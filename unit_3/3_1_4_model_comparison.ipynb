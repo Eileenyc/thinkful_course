{
 "cells": [
  {
   "cell_type": "markdown",
   "metadata": {},
   "source": [
    "# 3.1.4 [Challenge: Model Comparison](https://courses.thinkful.com/data-201v1/project/3.1.4)\n",
    "\n",
    "Iterate on model from [2.4.4](https://github.com/Eileenyc/thinkful_course/blob/master/unit_2/2_4_4_crime_regression_model.ipynb)\n",
    "\n",
    "[Download the Excel file here](https://ucr.fbi.gov/crime-in-the-u.s/2013/crime-in-the-u.s.-2013/tables/table-8/table-8-state-cuts/table_8_offenses_known_to_law_enforcement_new_york_by_city_2013.xls) on crime data in New York State in 2013, provided by the FBI: UCR ([Thinkful mirror](https://raw.githubusercontent.com/Thinkful-Ed/data-201-resources/master/New_York_offenses/NEW_YORK-Offenses_Known_to_Law_Enforcement_by_City_2013%20-%2013tbl8ny.csv)).\n",
    "\n",
    "Build Knn Regression and compare with OLS regression.\n",
    "How similar are they?\n",
    "Do they miss in different ways?\n",
    "Write a few paragrasphs to describe the models' behaviors and why you favor one model or the other.\n",
    "\n",
    "What is it about the data that causes the better model to outperform the weaker model."
   ]
  },
  {
   "cell_type": "markdown",
   "metadata": {},
   "source": [
    "To really get at whether these regressions are working I think I need to a seperate year or state. We previously had said there was alot of overfitting with the crime dataset. What I am for sure seeing is that the crime dataset benefits from being scaled. This makes alot of since since the features are very different scales.\n",
    "\n",
    "It seems like ordinary least squares works better for the crime data. There is a strong linear relationship between property crime and population that will help fill in gaps."
   ]
  },
  {
   "cell_type": "code",
   "execution_count": 11,
   "metadata": {},
   "outputs": [],
   "source": [
    "import math\n",
    "import warnings\n",
    "import pandas as pd\n",
    "import numpy as np\n",
    "import matplotlib.pyplot as plt\n",
    "\n",
    "from sklearn import linear_model, neighbors\n",
    "import statsmodels.formula.api as smf\n",
    "from IPython.display import display\n",
    "\n",
    "from sklearn.model_selection import cross_val_score, cross_val_predict, train_test_split, KFold\n",
    "from sklearn.metrics import r2_score\n",
    "from sklearn.preprocessing import MinMaxScaler\n",
    "\n",
    "\n",
    "from sklearn.neighbors import KNeighborsClassifier\n",
    "from scipy import stats\n",
    "\n",
    "# Display preferences.\n",
    "%matplotlib inline\n",
    "pd.options.display.float_format = '{:.3f}'.format\n",
    "\n",
    "# Suppress annoying harmless error.\n",
    "warnings.filterwarnings(\n",
    "    action=\"ignore\",\n",
    "    module=\"scipy\",\n",
    "    message=\"^internal gelsd\"\n",
    ")"
   ]
  },
  {
   "cell_type": "code",
   "execution_count": 9,
   "metadata": {},
   "outputs": [],
   "source": [
    "# Grab and process the raw data.\n",
    "data_path = (\"unit_3_data/ny_crime_data.csv\"\n",
    "            )\n",
    "df_crime = pd.read_csv(data_path, header=None, delimiter=',')\n",
    "df_crime.columns = list(df_crime.iloc[4,:])\n",
    "df_crime.columns = df_crime.columns.str.replace('\\n', '_').str.replace(' ', '_').str.lower()\n",
    "df_crime = df_crime.rename({'murder_and_nonnegligent_manslaughter':'murder',\n",
    "                           'larceny-_theft':'larceny',\n",
    "                           'arson3':'arson'},axis='columns')\n",
    "\n",
    "df_crime = pd.concat([df_crime.iloc[5:-3,0:4],df_crime.iloc[5:-3,6:-1]],axis=1).reset_index(drop=True)\n",
    "\n",
    "for crime in list(df_crime.columns[1:]):\n",
    "    df_crime[crime] = df_crime[crime].str.replace(',','').astype('int64')\n",
    "    \n",
    "crime_list = df_crime.columns[2:]\n",
    "\n",
    "for crime in crime_list:\n",
    "    df_crime[crime + str('_per_capita')] = df_crime[crime]/df_crime['population']\n",
    "    \n",
    "# create flags for >0 crimes\n",
    "for crime in crime_list:\n",
    "    df_crime[crime+str('_flag')] = np.where(df_crime[crime]>0,1,0)\n",
    "    \n",
    "df_crime['population_squared'] = df_crime['population']**2 \n",
    "\n",
    "df_crime = df_crime.loc[df_crime['city']!='New York'].reset_index(drop=True)"
   ]
  },
  {
   "cell_type": "code",
   "execution_count": 26,
   "metadata": {},
   "outputs": [
    {
     "name": "stdout",
     "output_type": "stream",
     "text": [
      "Linear Regression Cross Val Scores: 0.69 (+/- 0.67)\n",
      "Linear Regression Scaled Features Cross Val Scores: 0.69 (+/- 0.67)\n",
      "R2 score calc cross val score: 0.90\n"
     ]
    }
   ],
   "source": [
    "# Build our model.\n",
    "# Instantiate knn & knn weighted models\n",
    "regr = linear_model.LinearRegression()\n",
    "\n",
    "# Set Target\n",
    "Y = df_crime['property_crime']\n",
    "X = df_crime[['population', 'population_squared', 'violent_crime']]\n",
    "predicted = cross_val_predict(regr, X, y, cv=10)\n",
    "\n",
    "scaler = MinMaxScaler()\n",
    "X_scaled = scaler.fit_transform(X)\n",
    "\n",
    "score = cross_val_score(regr, X, Y, cv=5)\n",
    "print(\"Linear Regression Cross Val Scores: %0.2f (+/- %0.2f)\" % (score.mean(), score.std() * 2))\n",
    "\n",
    "score = cross_val_score(regr, X_scaled, Y, cv=5)\n",
    "print(\"Linear Regression Scaled Features Cross Val Scores: %0.2f (+/- %0.2f)\" % (score.mean(), score.std() * 2))\n",
    "\n",
    "cv_predictions = cross_val_predict(regr, X, Y, cv=5)\n",
    "#print(cv_predictions)\n",
    "print(\"R2 score calc cross val score: %0.2f\" % (r2_score(Y, cv_predictions)))"
   ]
  },
  {
   "cell_type": "code",
   "execution_count": 29,
   "metadata": {},
   "outputs": [],
   "source": [
    "regr_output = regr.fit(X,Y)\n"
   ]
  },
  {
   "cell_type": "code",
   "execution_count": 31,
   "metadata": {},
   "outputs": [
    {
     "name": "stdout",
     "output_type": "stream",
     "text": [
      "[ 1.71870721e-02 -6.58860239e-08  3.81537367e+00]\n",
      "-18.94113477691286\n"
     ]
    }
   ],
   "source": [
    "print(regr_output.coef_)\n",
    "print(regr_output.intercept_)"
   ]
  },
  {
   "cell_type": "code",
   "execution_count": 38,
   "metadata": {},
   "outputs": [
    {
     "data": {
      "text/plain": [
       "array([[5.16914928e-03, 4.75821272e-05, 0.00000000e+00],\n",
       "       [7.94151698e-03, 9.50293164e-05, 9.23361034e-04],\n",
       "       [8.98309088e-03, 1.16811532e-04, 9.23361034e-04],\n",
       "       ...,\n",
       "       [2.09282785e-02, 5.21118695e-04, 6.15574023e-04],\n",
       "       [7.69014532e-01, 5.92103972e-01, 3.18867344e-01],\n",
       "       [1.39845816e-01, 2.00448456e-02, 4.61680517e-03]])"
      ]
     },
     "execution_count": 38,
     "metadata": {},
     "output_type": "execute_result"
    }
   ],
   "source": [
    "X_scaled"
   ]
  },
  {
   "cell_type": "code",
   "execution_count": 33,
   "metadata": {},
   "outputs": [],
   "source": [
    "# Write out the model formula.\n",
    "# Your dependent variable on the right, independent variables on the left\n",
    "# Use a ~ to represent an '=' from the functional form\n",
    "linear_formula = 'property_crime ~ population+population_squared+violent_crime'\n",
    "\n",
    "# Fit the model to our data using the formula.\n",
    "lm = smf.ols(formula=linear_formula, data=df_crime).fit()"
   ]
  },
  {
   "cell_type": "code",
   "execution_count": 34,
   "metadata": {},
   "outputs": [
    {
     "data": {
      "text/plain": [
       "Intercept            -18.941\n",
       "population             0.017\n",
       "population_squared    -0.000\n",
       "violent_crime          3.815\n",
       "dtype: float64"
      ]
     },
     "execution_count": 34,
     "metadata": {},
     "output_type": "execute_result"
    }
   ],
   "source": [
    "lm.params"
   ]
  },
  {
   "cell_type": "code",
   "execution_count": 35,
   "metadata": {},
   "outputs": [
    {
     "data": {
      "text/plain": [
       "Intercept            0.330\n",
       "population           0.000\n",
       "population_squared   0.000\n",
       "violent_crime        0.000\n",
       "dtype: float64"
      ]
     },
     "execution_count": 35,
     "metadata": {},
     "output_type": "execute_result"
    }
   ],
   "source": [
    "lm.pvalues"
   ]
  },
  {
   "cell_type": "code",
   "execution_count": 36,
   "metadata": {},
   "outputs": [
    {
     "data": {
      "text/plain": [
       "0.9352483071162015"
      ]
     },
     "execution_count": 36,
     "metadata": {},
     "output_type": "execute_result"
    }
   ],
   "source": [
    "lm.rsquared"
   ]
  },
  {
   "cell_type": "code",
   "execution_count": 13,
   "metadata": {},
   "outputs": [
    {
     "name": "stdout",
     "output_type": "stream",
     "text": [
      "Unweighted Accuracy: 0.59 (+/- 0.18)\n",
      "Weighed Accuracy: 0.55 (+/- 0.22)\n",
      "Unweighted Accuracy Using Scaled X: 0.62 (+/- 0.19)\n",
      "Weighed Accuracy Using Scaled X: 0.63 (+/- 0.18)\n"
     ]
    }
   ],
   "source": [
    "# Build our model.\n",
    "# Instantiate knn & knn weighted models\n",
    "knn = neighbors.KNeighborsRegressor(n_neighbors=10)\n",
    "knn_w = neighbors.KNeighborsRegressor(n_neighbors=10, weights='distance')\n",
    "\n",
    "# Define freatures and target\n",
    "Y = df_crime['property_crime']\n",
    "X = df_crime[['population', 'population_squared', 'violent_crime']]\n",
    "\n",
    "scaler = MinMaxScaler()\n",
    "X_scaled = scaler.fit_transform(X)\n",
    "\n",
    "score = cross_val_score(knn, X, Y, cv=5)\n",
    "print(\"Unweighted Accuracy: %0.2f (+/- %0.2f)\" % (score.mean(), score.std() * 2))\n",
    "score_w = cross_val_score(knn_w, X, Y, cv=5)\n",
    "print(\"Weighed Accuracy: %0.2f (+/- %0.2f)\" % (score_w.mean(), score_w.std() * 2))\n",
    "\n",
    "score = cross_val_score(knn, X_scaled, Y, cv=5)\n",
    "print(\"Unweighted Accuracy Using Scaled X: %0.2f (+/- %0.2f)\" % (score.mean(), score.std() * 2))\n",
    "score_w = cross_val_score(knn_w, X_scaled, Y, cv=5)\n",
    "print(\"Weighed Accuracy Using Scaled X: %0.2f (+/- %0.2f)\" % (score_w.mean(), score_w.std() * 2))"
   ]
  },
  {
   "cell_type": "code",
   "execution_count": 15,
   "metadata": {},
   "outputs": [
    {
     "name": "stdout",
     "output_type": "stream",
     "text": [
      "0.5274862630338488\n"
     ]
    }
   ],
   "source": [
    "cv_predictions = cross_val_predict(knn_w, X, Y, cv=5)\n",
    "#print(cv_predictions)\n",
    "print(r2_score(Y, cv_predictions))"
   ]
  },
  {
   "cell_type": "code",
   "execution_count": 16,
   "metadata": {},
   "outputs": [
    {
     "name": "stdout",
     "output_type": "stream",
     "text": [
      "0.6116009327607101\n"
     ]
    }
   ],
   "source": [
    "cv_predictions = cross_val_predict(knn_w, X_scaled, Y, cv=5)\n",
    "#print(cv_predictions)\n",
    "print(r2_score(Y, cv_predictions))"
   ]
  },
  {
   "cell_type": "code",
   "execution_count": 20,
   "metadata": {},
   "outputs": [
    {
     "data": {
      "text/plain": [
       "KNeighborsRegressor(algorithm='auto', leaf_size=30, metric='minkowski',\n",
       "          metric_params=None, n_jobs=1, n_neighbors=10, p=2,\n",
       "          weights='distance')"
      ]
     },
     "execution_count": 20,
     "metadata": {},
     "output_type": "execute_result"
    }
   ],
   "source": [
    "knn_w.fit(X_scaled,Y)"
   ]
  },
  {
   "cell_type": "code",
   "execution_count": 41,
   "metadata": {},
   "outputs": [
    {
     "data": {
      "text/plain": [
       "-11.319976881860857"
      ]
     },
     "execution_count": 41,
     "metadata": {},
     "output_type": "execute_result"
    }
   ],
   "source": [
    "cv_predictions.min()"
   ]
  },
  {
   "cell_type": "code",
   "execution_count": 24,
   "metadata": {},
   "outputs": [
    {
     "data": {
      "text/plain": [
       "{'algorithm': 'auto',\n",
       " 'leaf_size': 30,\n",
       " 'metric': 'minkowski',\n",
       " 'metric_params': None,\n",
       " 'n_jobs': 1,\n",
       " 'n_neighbors': 10,\n",
       " 'p': 2,\n",
       " 'weights': 'distance'}"
      ]
     },
     "execution_count": 24,
     "metadata": {},
     "output_type": "execute_result"
    }
   ],
   "source": [
    "knn_w.get_params()"
   ]
  },
  {
   "cell_type": "code",
   "execution_count": 58,
   "metadata": {},
   "outputs": [],
   "source": [
    "#np.random.seed(0)\n",
    "\n",
    "T = np.linspace(0, 12491, 347)[:, np.newaxis]\n"
   ]
  },
  {
   "cell_type": "code",
   "execution_count": 62,
   "metadata": {},
   "outputs": [
    {
     "data": {
      "text/plain": [
       "347"
      ]
     },
     "execution_count": 62,
     "metadata": {},
     "output_type": "execute_result"
    }
   ],
   "source": [
    "len(Y)"
   ]
  },
  {
   "cell_type": "code",
   "execution_count": 63,
   "metadata": {},
   "outputs": [
    {
     "data": {
      "text/plain": [
       "347"
      ]
     },
     "execution_count": 63,
     "metadata": {},
     "output_type": "execute_result"
    }
   ],
   "source": [
    "len(X)"
   ]
  },
  {
   "cell_type": "code",
   "execution_count": 64,
   "metadata": {},
   "outputs": [
    {
     "data": {
      "text/plain": [
       "347"
      ]
     },
     "execution_count": 64,
     "metadata": {},
     "output_type": "execute_result"
    }
   ],
   "source": [
    "len(T)"
   ]
  },
  {
   "cell_type": "code",
   "execution_count": 65,
   "metadata": {},
   "outputs": [
    {
     "ename": "TypeError",
     "evalue": "predict() missing 1 required positional argument: 'X'",
     "output_type": "error",
     "traceback": [
      "\u001b[0;31m---------------------------------------------------------------------------\u001b[0m",
      "\u001b[0;31mTypeError\u001b[0m                                 Traceback (most recent call last)",
      "\u001b[0;32m<ipython-input-65-be34b200a637>\u001b[0m in \u001b[0;36m<module>\u001b[0;34m()\u001b[0m\n\u001b[1;32m      4\u001b[0m \u001b[0;32mfor\u001b[0m \u001b[0mi\u001b[0m\u001b[0;34m,\u001b[0m \u001b[0mweights\u001b[0m \u001b[0;32min\u001b[0m \u001b[0menumerate\u001b[0m\u001b[0;34m(\u001b[0m\u001b[0;34m[\u001b[0m\u001b[0;34m'uniform'\u001b[0m\u001b[0;34m,\u001b[0m \u001b[0;34m'distance'\u001b[0m\u001b[0;34m]\u001b[0m\u001b[0;34m)\u001b[0m\u001b[0;34m:\u001b[0m\u001b[0;34m\u001b[0m\u001b[0m\n\u001b[1;32m      5\u001b[0m     \u001b[0mknn\u001b[0m \u001b[0;34m=\u001b[0m \u001b[0mneighbors\u001b[0m\u001b[0;34m.\u001b[0m\u001b[0mKNeighborsRegressor\u001b[0m\u001b[0;34m(\u001b[0m\u001b[0mn_neighbors\u001b[0m\u001b[0;34m,\u001b[0m \u001b[0mweights\u001b[0m\u001b[0;34m=\u001b[0m\u001b[0mweights\u001b[0m\u001b[0;34m)\u001b[0m\u001b[0;34m\u001b[0m\u001b[0m\n\u001b[0;32m----> 6\u001b[0;31m     \u001b[0my_\u001b[0m \u001b[0;34m=\u001b[0m \u001b[0mknn\u001b[0m\u001b[0;34m.\u001b[0m\u001b[0mfit\u001b[0m\u001b[0;34m(\u001b[0m\u001b[0mX\u001b[0m\u001b[0;34m,\u001b[0m \u001b[0mY\u001b[0m\u001b[0;34m)\u001b[0m\u001b[0;34m.\u001b[0m\u001b[0mpredict\u001b[0m\u001b[0;34m(\u001b[0m\u001b[0;34m)\u001b[0m\u001b[0;34m\u001b[0m\u001b[0m\n\u001b[0m\u001b[1;32m      7\u001b[0m \u001b[0;34m\u001b[0m\u001b[0m\n\u001b[1;32m      8\u001b[0m     \u001b[0mplt\u001b[0m\u001b[0;34m.\u001b[0m\u001b[0msubplot\u001b[0m\u001b[0;34m(\u001b[0m\u001b[0;36m2\u001b[0m\u001b[0;34m,\u001b[0m \u001b[0;36m1\u001b[0m\u001b[0;34m,\u001b[0m \u001b[0mi\u001b[0m \u001b[0;34m+\u001b[0m \u001b[0;36m1\u001b[0m\u001b[0;34m)\u001b[0m\u001b[0;34m\u001b[0m\u001b[0m\n",
      "\u001b[0;31mTypeError\u001b[0m: predict() missing 1 required positional argument: 'X'"
     ]
    }
   ],
   "source": [
    "# Fit regression model\n",
    "n_neighbors = 5\n",
    "\n",
    "for i, weights in enumerate(['uniform', 'distance']):\n",
    "    knn = neighbors.KNeighborsRegressor(n_neighbors, weights=weights)\n",
    "    y_ = knn.fit(X, Y).predict()\n",
    "\n",
    "    plt.subplot(2, 1, i + 1)\n",
    "    plt.scatter(X, Y, c='k', label='data')\n",
    "    plt.plot(T, y_, c='g', label='prediction')\n",
    "    plt.axis('tight')\n",
    "    plt.legend()\n",
    "    plt.title(\"KNeighborsRegressor (k = %i, weights = '%s')\" % (n_neighbors,\n",
    "                                                                weights))\n",
    "\n",
    "plt.tight_layout()\n",
    "plt.show()"
   ]
  }
 ],
 "metadata": {
  "kernelspec": {
   "display_name": "Python 3",
   "language": "python",
   "name": "python3"
  },
  "language_info": {
   "codemirror_mode": {
    "name": "ipython",
    "version": 3
   },
   "file_extension": ".py",
   "mimetype": "text/x-python",
   "name": "python",
   "nbconvert_exporter": "python",
   "pygments_lexer": "ipython3",
   "version": "3.6.5"
  }
 },
 "nbformat": 4,
 "nbformat_minor": 2
}
