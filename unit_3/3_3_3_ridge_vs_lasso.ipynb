{
 "cells": [
  {
   "cell_type": "markdown",
   "metadata": {},
   "source": [
    "# 3.3.2 & 3.3.3 [Lasso Regression](https://courses.thinkful.com/data-201v1/project/3.3.3) vs. [Ridge Regression](https://courses.thinkful.com/data-201v1/project/3.3.2)"
   ]
  },
  {
   "cell_type": "code",
   "execution_count": 2,
   "metadata": {},
   "outputs": [],
   "source": [
    "import pandas as pd\n",
    "from matplotlib import pyplot as plt\n",
    "import numpy as np\n",
    "import math\n",
    "import seaborn as sns\n",
    "import sklearn\n",
    "from sklearn import linear_model\n",
    "from sklearn import preprocessing\n",
    "%matplotlib inline\n",
    "sns.set_style('white')"
   ]
  },
  {
   "cell_type": "code",
   "execution_count": 3,
   "metadata": {},
   "outputs": [],
   "source": [
    "## Load the data again. Keep air quality data, drop the index column\n",
    "# and any missing data columns.\n",
    "df = pd.read_csv(\n",
    "    'https://vincentarelbundock.github.io/Rdatasets/csv/ISLR/Default.csv'\n",
    ").iloc[:,1:].dropna()\n",
    "\n",
    "# Recode strings to numeric.\n",
    "df['default'] = np.where(df['default']=='Yes', 1, 0)\n",
    "df['student'] = np.where(df['student']=='Yes', 1, 0)\n",
    "names = df.columns\n",
    "df = pd.DataFrame(preprocessing.scale(df), columns=names)\n",
    "\n",
    "# Define the training and test sizes.\n",
    "trainsize = int(df.shape[0] / 2)\n",
    "df_test = df.iloc[trainsize:, :].copy()\n",
    "df_train = df.iloc[:trainsize, :].copy()\n",
    "\n",
    "Y_train = df_train['income'].values.reshape(-1, 1)\n",
    "X_train = df_train.loc[:, ~(df_train.columns).isin(['income'])]\n",
    "\n",
    "# Make some new features to capture potential quadratic and cubic\n",
    "# relationships between solar radiation and day or temperature.\n",
    "df_train['balance_student'] = df_train['balance'] * df_train['student']\n",
    "df_train['balance_default'] = df_train['balance'] * df_train['default']\n",
    "df_train['student_default'] = df_train['student'] * df_train['default']\n",
    "df_train['balance_sqrt'] = (df_train['balance'] + 100) ** .5\n",
    "df_train['balance2'] = (df_train['balance'] + 100) ** 2\n",
    "df_train['balance3'] = (df_train['balance'] + 100) ** 3\n",
    "\n",
    "X_train2 = df_train.loc[:, ~(df_train.columns).isin(['income'])]\n",
    "\n",
    "# Test the simpler model with smaller coefficients.\n",
    "Y_test = df_test['income'].values.reshape(-1, 1)\n",
    "X_test = df_test.loc[:, ~(df_test.columns).isin(['income'])]\n",
    "\n",
    "# Test the more complex model with larger coefficients.\n",
    "df_test['balance_student'] = df_test['balance'] * df_test['student']\n",
    "df_test['balance_default'] = df_test['balance'] * df_test['default']\n",
    "df_test['student_default'] = df_test['student'] * df_test['default']\n",
    "df_test['balance_sqrt'] = (df_test['balance'] + 100) ** .5\n",
    "df_test['balance2'] = (df_test['balance'] + 100) ** 2\n",
    "df_test['balance3'] = (df_test['balance'] + 100) ** 3\n",
    "X_test2 = df_test.loc[:, ~(df_test.columns).isin(['income'])]\n"
   ]
  },
  {
   "cell_type": "markdown",
   "metadata": {},
   "source": [
    "Create a plot below of how $R^2$ varies across different values of $\\lambda$ for ridge and lasso regression. \n",
    "\n",
    "* Use logic and code similar to the ridge regression demonstration above.  * base your plot on the X_train2 feature set.\n",
    "\n",
    "Do lasso and ridge yield the same $R^2$ for a given lambda value?\n",
    "\n"
   ]
  },
  {
   "cell_type": "code",
   "execution_count": 10,
   "metadata": {},
   "outputs": [
    {
     "data": {
      "text/plain": [
       "Ridge(alpha=2, copy_X=True, fit_intercept=False, max_iter=None,\n",
       "   normalize=False, random_state=None, solver='auto', tol=0.001)"
      ]
     },
     "execution_count": 10,
     "metadata": {},
     "output_type": "execute_result"
    }
   ],
   "source": [
    "lambd = 2\n",
    "ridgeregrBig = linear_model.Ridge(alpha=lambd, fit_intercept=False)\n",
    "ridgeregrBig.fit(X_train2, Y_train)"
   ]
  },
  {
   "cell_type": "code",
   "execution_count": 11,
   "metadata": {},
   "outputs": [
    {
     "data": {
      "text/plain": [
       "0.5631012998121807"
      ]
     },
     "execution_count": 11,
     "metadata": {},
     "output_type": "execute_result"
    }
   ],
   "source": [
    "ridgeregrBig.score(X_test2, Y_test)"
   ]
  },
  {
   "cell_type": "code",
   "execution_count": 40,
   "metadata": {},
   "outputs": [
    {
     "data": {
      "image/png": "[encoded data removed]",
      "text/plain": [
       "<Figure size 432x288 with 1 Axes>"
      ]
     },
     "metadata": {},
     "output_type": "display_data"
    },
    {
     "data": {
      "image/png": "[encoded data removed]",
      "text/plain": [
       "<Figure size 432x288 with 1 Axes>"
      ]
     },
     "metadata": {},
     "output_type": "display_data"
    }
   ],
   "source": [
    "# Store R^2.\n",
    "r_squared_ridge = []\n",
    "r_squared_lasso = []\n",
    "\n",
    "# Storing legend information.\n",
    "ridge_penalty = []\n",
    "lass_penalty = []\n",
    "labels = []\n",
    "#Run the model for many alphas.\n",
    "for lambd in np.arange(1, 50, 3):\n",
    "    ridge_penalty.append(lambd)\n",
    "    \n",
    "    ridgeregr = linear_model.Ridge(alpha=lambd, fit_intercept=False)\n",
    "    ridgeregr.fit(X_train2, Y_train)\n",
    "    r_squared_ridge.append(ridgeregr.score(X_test2, Y_test))\n",
    "    \n",
    "# Make the data pretty.\n",
    "df_ridge = pd.DataFrame(data = {'ridge':r_squared_ridge,\n",
    "                                'penalty': ridge_penalty}\n",
    "                          )\n",
    "df_ridge.sort_values(by='penalty', inplace=True, ascending=True)\n",
    "\n",
    "\n",
    "# Run Lasso\n",
    "for lambd in np.arange(0.05, 1.0, .05):\n",
    "    lass_penalty.append(lambd)\n",
    "\n",
    "    lass = linear_model.Lasso(alpha=lambd)\n",
    "    lass.fit(X_train2, Y_train)\n",
    "    r_squared_lasso.append(lass.score(X_test2, Y_test))\n",
    "    \n",
    "# Make the data pretty.\n",
    "df_lasso = pd.DataFrame(data = {'lasso':r_squared_lasso,\n",
    "                                'penalty': lass_penalty}\n",
    "                          )\n",
    "df_lasso.sort_values(by='penalty', inplace=True, ascending=True)\n",
    "\n",
    "# Plot a line for each parameter.\n",
    "\n",
    "plt.plot(df_lasso['penalty'], df_lasso['lasso'])\n",
    "plt.xlabel('penalty')\n",
    "plt.ylabel('R^2')\n",
    "plt.title('Lossa Regression Relationship of Lambda and R^2')\n",
    "plt.show()\n",
    "\n",
    "plt.plot(df_ridge['penalty'], df_ridge['ridge'])\n",
    "plt.xlabel('penalty')\n",
    "plt.ylabel('R^2')\n",
    "plt.title('Ridge Regression Relationship of Lambda and R^2')\n",
    "plt.show()"
   ]
  },
  {
   "cell_type": "markdown",
   "metadata": {},
   "source": [
    "# Improving on OLS\n",
    "* more accurate *predictions* can be found by modifying the OLS cost function.\n",
    "* THe OLS cost function optimizes variance explained *in the training set*\n",
    "* Ridge and lasso regressions modify the cost function to optimize variance explained *in the test sets*\n",
    "\n",
    "\n",
    "### Ridge Regression:\n",
    "* Same cost function as ols but also includes section that imposes penalty for lare coefficients.\n",
    "* penalty represents the sum of the square of all model coefficients from 1 to p (number of coefficients). multiplied by the regularization parameter lambda\n",
    "* as lamdba get larger the penalty for coefficient size also gets larger and the solution that ninimizes the cost function will by necessity have snaller coefficient estimates\n",
    "* Shrinks parameter estimates but estimates never reach exactly 0\n",
    "* Cost function: penalizs by the sum of **squared** coefficients\n",
    "* **L2 regularization** regularization based on the sum of squared weights\n",
    "* **Core Principal**: as models become increasingly complex and features correlate with one anothe rmore and more (become multicolinear)m coefficients arrived at by OLS beomce increasingly large (bc it is incorporating too uch variance from the dataset)\n",
    "\n",
    "### LASSO (Least Absolute Shrinkage and Selection Operator)\n",
    "* model optimization that works by trying to force small parameter estimates to be equal to zero, effectively dropping them from the model\n",
    "* Cost function: penalizes by the sum of the **absolute values** of the coefficients e.g. penalty does not increase as swiftly with coefficient size as it does with Ridge Regression\n",
    "* **L1 regularization**: Regularization based on the sum of absolute weights\n",
    "* Lasso Regression models are optimized using coordinate descent rather than gradient descent\n",
    "* **coordinate descent** iteratively fits a model to data wile excluding one of the featues, then checks how well the model reproduces the data, if the model fit is good enough without the feature it is deemed unnecessary and its coefficient is set to zero, otherwise the coefficient is set using a combination of correlation of the feature with the model residuals. A new iteration begins using the newly calculated coefficient and excluding a new feature. \n",
    "* Pros: \n",
    "    * prevents overfitting \n",
    "    * works as embedded feature selection\n",
    "    * handy when you are dealing with large number of predictors and need to optimize processor time\n",
    "    * provides simpler solution easier to interpret\n",
    "    \n",
    "#### Regularization parameter for lasso\n",
    "the lambda for lasso can vary between 0 (no penalty acts like OLS) and infinity.\n",
    "* if lamdba is too large all parameters will be set to zero"
   ]
  }
 ],
 "metadata": {
  "kernelspec": {
   "display_name": "Python 3",
   "language": "python",
   "name": "python3"
  },
  "language_info": {
   "codemirror_mode": {
    "name": "ipython",
    "version": 3
   },
   "file_extension": ".py",
   "mimetype": "text/x-python",
   "name": "python",
   "nbconvert_exporter": "python",
   "pygments_lexer": "ipython3",
   "version": "3.6.5"
  }
 },
 "nbformat": 4,
 "nbformat_minor": 2
}
