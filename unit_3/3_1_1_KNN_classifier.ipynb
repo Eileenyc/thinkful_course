{
 "cells": [
  {
   "cell_type": "markdown",
   "metadata": {},
   "source": [
    "# 3.1.1 [KNN classifier](https://courses.thinkful.com/data-201v1/project/3.1.1)"
   ]
  },
  {
   "cell_type": "markdown",
   "metadata": {},
   "source": [
    "# Challenge: Implement the Nearest Neighbor algorithm\n",
    "* Code a Nearest Neighbor algorithm that works for two dimensional data"
   ]
  },
  {
   "cell_type": "code",
   "execution_count": 40,
   "metadata": {
    "collapsed": true
   },
   "outputs": [],
   "source": [
    "distance_list = []\n",
    "song_type = []\n",
    "\n",
    "def calc_distance(var_1, var_2, test_1, test_2):\n",
    "    '''Return the distance between a trial with a known outcome\n",
    "    and an instance I am trying to classify\n",
    "    '''\n",
    "    distance = np.sqrt((var_1 - test_1)**2 + (var_2 - test_2)**2)"
   ]
  },
  {
   "cell_type": "code",
   "execution_count": 41,
   "metadata": {
    "scrolled": true
   },
   "outputs": [
    {
     "name": "stdout",
     "output_type": "stream",
     "text": [
      "distance    None\n",
      "jazz           1\n",
      "Name: 0, dtype: object\n"
     ]
    }
   ],
   "source": [
    "duration = 190\n",
    "loudness = 24\n",
    "distance_list = []\n",
    "music_list = []\n",
    "\n",
    "n = len(music.iloc[:,0])\n",
    "for i in range(n):\n",
    "    distance = calc_distance(music.iloc[i,0],\n",
    "                             music.iloc[i,1],\n",
    "                             duration, loudness)\n",
    "    distance_list.append(distance)\n",
    "    music_list.append(music.iloc[i,2])\n",
    "sorted_distance = pd.DataFrame(data={\"jazz\":music_list, \"distance\":distance_list}\n",
    "            ).sort_values(by='distance').reset_index(drop=True)\n",
    "print(sorted_distance.iloc[0])"
   ]
  },
  {
   "cell_type": "markdown",
   "metadata": {},
   "source": [
    "Questions:\n",
    "1. what is a mesh - think its a 3D representation of a graph\n",
    "2. What is a decision boundary? I'm guessing its limiting potential outcomes in some way"
   ]
  },
  {
   "cell_type": "code",
   "execution_count": 1,
   "metadata": {
    "collapsed": true
   },
   "outputs": [],
   "source": [
    "import numpy as np\n",
    "import pandas as pd\n",
    "import matplotlib.pyplot as plt\n",
    "import scipy\n",
    "%matplotlib inline"
   ]
  },
  {
   "cell_type": "markdown",
   "metadata": {},
   "source": [
    "### K Nearest Neighbors Classifiers\n",
    "* Naive Bayes: learning via probability\n",
    "* Regression: learning via erros\n",
    "* K Nearest Neighbor: learning via similarity\n",
    "\n",
    "#### Nearest Neighbor\n",
    "* let's classify a song as either \"rock\" or \"jazz\"\n",
    "* duration measured in seconds\n",
    "* loudness measured in decibel"
   ]
  },
  {
   "cell_type": "code",
   "execution_count": 3,
   "metadata": {
    "collapsed": true
   },
   "outputs": [],
   "source": [
    "music = pd.DataFrame()\n",
    "\n",
    "# Some data to play with.\n",
    "music['duration'] = [184, 134, 243, 186, 122, 197, 294, 382, 102, 264, \n",
    "                     205, 110, 307, 110, 397, 153, 190, 192, 210, 403,\n",
    "                     164, 198, 204, 253, 234, 190, 182, 401, 376, 102]\n",
    "music['loudness'] = [18, 34, 43, 36, 22, 9, 29, 22, 10, 24, \n",
    "                     20, 10, 17, 51, 7, 13, 19, 12, 21, 22,\n",
    "                     16, 18, 4, 23, 34, 19, 14, 11, 37, 42]\n",
    "\n",
    "# We know whether the songs in our training data are jazz or not.\n",
    "music['jazz'] = [ 1, 0, 0, 0, 1, 1, 0, 1, 1, 0,\n",
    "                  0, 1, 1, 0, 1, 1, 0, 1, 1, 1,\n",
    "                  1, 1, 1, 1, 0, 0, 1, 1, 0, 0]"
   ]
  },
  {
   "cell_type": "code",
   "execution_count": 4,
   "metadata": {},
   "outputs": [
    {
     "data": {
      "image/png": "[encoded data removed]",
      "text/plain": [
       "<matplotlib.figure.Figure at 0x10f95d7b8>"
      ]
     },
     "metadata": {},
     "output_type": "display_data"
    }
   ],
   "source": [
    "# Look at our data.\n",
    "plt.scatter(\n",
    "    music[music['jazz'] == 1].duration,\n",
    "    music[music['jazz'] == 1].loudness,\n",
    "    color='red'\n",
    ")\n",
    "\n",
    "plt.scatter(\n",
    "    music[music['jazz'] == 0].duration,\n",
    "    music[music['jazz'] == 0].loudness,\n",
    "    color='blue'\n",
    ")\n",
    "\n",
    "plt.legend(['Jazz', 'Rock'])\n",
    "plt.title('Jazz and Rock Characteristics')\n",
    "plt.xlabel('Duration')\n",
    "plt.ylabel('Loudness')\n",
    "plt.show()"
   ]
  },
  {
   "cell_type": "markdown",
   "metadata": {},
   "source": [
    "### Simplest for of a similarity model is the Nearest Neighbor model\n",
    "This works quite simply: when trying to predict an observation we find the closest (or nearest) known observation in our training data and use that value to make our prediction\n",
    "\n",
    "In this case we will use the model as a classifier\n",
    "Outcome of interest will be the music category\n",
    "\n",
    "To find which obersvation is \"nearest\" we need a way to measure distance. \n",
    "\n",
    "Euclidean Distance is frequently used, you don't have to use this distance but it is easy and can use the pythagorean theorum to identify the dinstance between a datapoint and the scenerio you are trying to predict.\n",
    "\n",
    "Next you measure the distance from each point in our training data to the point we're trying to predict. The model will find the datapoint with the smallest distance and then apply that category to our prediction."
   ]
  },
  {
   "cell_type": "code",
   "execution_count": 5,
   "metadata": {},
   "outputs": [
    {
     "data": {
      "text/plain": [
       "array([0])"
      ]
     },
     "execution_count": 5,
     "metadata": {},
     "output_type": "execute_result"
    }
   ],
   "source": [
    "from sklearn.neighbors import KNeighborsClassifier\n",
    "neighbors = KNeighborsClassifier(n_neighbors=1)\n",
    "X = music[['loudness', 'duration']]\n",
    "Y = music.jazz\n",
    "neighbors.fit(X,Y)\n",
    "\n",
    "## Predict for a song with 24 loudness that's 190 seconds long\n",
    "neighbors.predict([[24, 190]])"
   ]
  },
  {
   "cell_type": "markdown",
   "metadata": {},
   "source": [
    "The model is predicting that a song with 24 loudness and 190 seconds long is NOT Jazz.\n",
    "\n",
    "Also note that Nearest Neighbor is a simplification of K-Nearest Neighbors"
   ]
  },
  {
   "cell_type": "markdown",
   "metadata": {},
   "source": [
    "## K-Nearest Neighbors\n",
    "_K-Nearest Neighbors_ (or\"_KNN_\") is the logical extension of Nearest Neighbor\n",
    "* Instead of looking at just the single nearest datapoint to predict an outcome, we look at several of the nearest neighbors \n",
    "* _k_ represents the number of neighbors we choose to look at \n",
    "* Each of the _k_ neighbors gets to vote on what the predicted outcome should be\n",
    "\n",
    "### This does a couple cool things\n",
    "1. It smooths out the predictions - if only one neighbor gets to influence the outcome the model will explicitly overfits to the training data\n",
    "2. This means instead of just predicting classes, we get implicit probabilities. If each of the _k_ neighbors gets a vote on the outcome, then the probability of the test example being from any given class $i$ is:\n",
    "$$ \\frac{votes_i}{k} $$\n",
    "3. This model can accomodate as many classes as the data set necessitates"
   ]
  },
  {
   "cell_type": "code",
   "execution_count": 6,
   "metadata": {},
   "outputs": [
    {
     "name": "stdout",
     "output_type": "stream",
     "text": [
      "[1]\n",
      "[[ 0.4  0.6]]\n"
     ]
    }
   ],
   "source": [
    "# Try the same classifier where K = 5\n",
    "neighbors = KNeighborsClassifier(n_neighbors=5)\n",
    "X = music[['loudness', 'duration']]\n",
    "Y = music.jazz\n",
    "neighbors.fit(X,Y)\n",
    "\n",
    "## Predict for a 24 loudness, 190 seconds long \n",
    "print(neighbors.predict([[24,190]]))\n",
    "print(neighbors.predict_proba([[24,190]]))"
   ]
  },
  {
   "cell_type": "markdown",
   "metadata": {},
   "source": [
    "Now our test prediction has changed. \n",
    "In using the five nearest neighbors there were two votes for rock and three for jazz so it was classified as a jazz song.\n",
    "\n",
    "So while in the previous example it was classified as Rock because the nearest neighbor was Rock by looking at more neighbors we find out that there are more jazz songs near K"
   ]
  },
  {
   "cell_type": "markdown",
   "metadata": {},
   "source": [
    "### Visualizing Our Decision bounds\n",
    "$mesh$ - approach that will help visualize the decision bounds the code below illustrates what a \"mesh\" is"
   ]
  },
  {
   "cell_type": "code",
   "execution_count": 7,
   "metadata": {
    "collapsed": true
   },
   "outputs": [],
   "source": [
    "# Our data. Converting from data frames to arrays\n",
    "# for the mesh\n",
    "X = np.array(X)\n",
    "Y = np.array(Y)\n",
    "\n",
    "# Mesh size.\n",
    "h = 4.0\n",
    "\n",
    "# Plot the decision boundary.\n",
    "# We assign a color to each point in the mesh.\n",
    "x_min = X[:, 0].min() - .5\n",
    "x_max = X[:, 0].max() + .5\n",
    "y_min = X[:, 1].min() - .5\n",
    "y_max = X[:, 1].max() + .5"
   ]
  },
  {
   "cell_type": "code",
   "execution_count": 8,
   "metadata": {
    "scrolled": true
   },
   "outputs": [
    {
     "data": {
      "image/png": "[encoded data removed]",
      "text/plain": [
       "<matplotlib.figure.Figure at 0x10f956a58>"
      ]
     },
     "metadata": {},
     "output_type": "display_data"
    }
   ],
   "source": [
    "h = 2\n",
    "np.arange(x_min, x_max, h)\n",
    "np.arange(y_min, y_max, h)\n",
    "\n",
    "xx, yy = np.meshgrid(\n",
    "    np.arange(x_min, x_max, h),\n",
    "    np.arange(y_min, y_max, h)\n",
    ")\n",
    "\n",
    "Z = neighbors.predict(np.c_[xx.ravel(), yy.ravel()])\n",
    "\n",
    "# Put the result into a color plot.\n",
    "Z = Z.reshape(xx.shape)\n",
    "plt.figure(1, figsize=(6,4))\n",
    "plt.set_cmap(plt.cm.Paired) # set the colormap\n",
    "plt.pcolormesh(xx, yy, Z)\n",
    "# Add teh training points to the plot.\n",
    "plt.scatter(X[:,0], X[:, 1], c=Y)\n",
    "plt.xlabel('Loudness')\n",
    "plt.ylabel('Duration')\n",
    "plt.title('Mesh visualizaiton')\n",
    "\n",
    "plt.xlim(xx.min(), xx.max())\n",
    "plt.ylim(yy.min(), yy.max())\n",
    "\n",
    "plt.show()"
   ]
  },
  {
   "cell_type": "code",
   "execution_count": 9,
   "metadata": {
    "collapsed": true
   },
   "outputs": [],
   "source": [
    "def mesh_test(h):\n",
    "    np.arange(x_min, x_max, h)\n",
    "    np.arange(y_min, y_max, h)\n",
    "\n",
    "    xx, yy = np.meshgrid(\n",
    "        np.arange(x_min, x_max, h),\n",
    "        np.arange(y_min, y_max, h)\n",
    "    )\n",
    "\n",
    "    Z = neighbors.predict(np.c_[xx.ravel(), yy.ravel()])\n",
    "\n",
    "    # Put the result into a color plot.\n",
    "    Z = Z.reshape(xx.shape)\n",
    "    plt.figure(1, figsize=(6,4))\n",
    "    plt.set_cmap(plt.cm.Paired) # set the colormap\n",
    "    plt.pcolormesh(xx, yy, Z)\n",
    "    # Add teh training points to the plot.\n",
    "    plt.scatter(X[:,0], X[:, 1], c=Y)\n",
    "    plt.xlabel('Loudness')\n",
    "    plt.ylabel('Duration')\n",
    "    plt.title('Mesh visualizaiton')\n",
    "\n",
    "    plt.xlim(xx.min(), xx.max())\n",
    "    plt.ylim(yy.min(), yy.max())\n",
    "\n",
    "    plt.show()"
   ]
  },
  {
   "cell_type": "code",
   "execution_count": 10,
   "metadata": {
    "scrolled": false
   },
   "outputs": [
    {
     "data": {
      "image/png": "[encoded data removed]",
      "text/plain": [
       "<matplotlib.figure.Figure at 0x114c317f0>"
      ]
     },
     "metadata": {},
     "output_type": "display_data"
    },
    {
     "data": {
      "image/png": "[encoded data removed]",
      "text/plain": [
       "<matplotlib.figure.Figure at 0x114cb1518>"
      ]
     },
     "metadata": {},
     "output_type": "display_data"
    },
    {
     "data": {
      "image/png": "[encoded data removed]",
      "text/plain": [
       "<matplotlib.figure.Figure at 0x114d125c0>"
      ]
     },
     "metadata": {},
     "output_type": "display_data"
    }
   ],
   "source": [
    "mesh_test(2)\n",
    "mesh_test(1)\n",
    "mesh_test(.9)\n"
   ]
  },
  {
   "cell_type": "code",
   "execution_count": null,
   "metadata": {
    "collapsed": true
   },
   "outputs": [],
   "source": [
    "mesh_test(.1)"
   ]
  },
  {
   "cell_type": "markdown",
   "metadata": {},
   "source": [
    "1. Any new point that fell within a blue area would be predicted to be jazz\n",
    "2. Any point that fell within a brown area would be predicted to be rock\n",
    "3. The visualization isn't completely continuous - there are an infinite number of points in this space and we can't calculate the value for each one.\n",
    "\n",
    "Mesh size (h = 4.0) was set to 4.0 meaning we calculate the value for each point in a grid where the points are space 4.0 away from eachother\n",
    "\n",
    "You can adjust the mesh so that they are closer together creatigna more continuous visualization but it will be more computationally demanding"
   ]
  },
  {
   "cell_type": "markdown",
   "metadata": {},
   "source": [
    "computing the Nearest neighbor visualization becomes computationally challenging around h=.001 and killed my kernal "
   ]
  }
 ],
 "metadata": {
  "kernelspec": {
   "display_name": "Python 3",
   "language": "python",
   "name": "python3"
  },
  "language_info": {
   "codemirror_mode": {
    "name": "ipython",
    "version": 3
   },
   "file_extension": ".py",
   "mimetype": "text/x-python",
   "name": "python",
   "nbconvert_exporter": "python",
   "pygments_lexer": "ipython3",
   "version": "3.6.1"
  }
 },
 "nbformat": 4,
 "nbformat_minor": 2
}
