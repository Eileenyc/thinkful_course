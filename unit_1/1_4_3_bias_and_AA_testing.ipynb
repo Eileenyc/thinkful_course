{
 "cells": [
  {
   "cell_type": "markdown",
   "metadata": {},
   "source": [
    "# 1.4.3 [Bias and A/A Testing](https://courses.thinkful.com/data-201v1/project/1.4.3)\n",
    "\n",
    "For each of the following scenarios, call out the potential biases in the proposed experiment. Do your best to try to discover not only the bias, but the initial design. There is plenty of room for interpretation here, so make sure to state what assumptions you're making.\n",
    "\n",
    "1. You're testing advertising emails for a bathing suit company and you test one version of the email in February and the other in May.\n",
    "2. You open a clinic to treat anxiety and find that the people who visit show a higher rate of anxiety than the general population.\n",
    "3. You launch a new ad billboard based campaign and see an increase in website visits in the first week.\n",
    "4. You launch a loyalty program but see no change in visits in the first week."
   ]
  },
  {
   "cell_type": "markdown",
   "metadata": {},
   "source": [
    "### 1. You're testing advertising emails for a bathing suit company and you test one version of the email in Feb and the other in May.\n",
    "\n",
    "The sample is likely the conversion rate for each specific day in the month. There is bias in the choice of months for comparison February is a shorter month and therefore will have 2 less trials than May additionally May is leading into summer when consumers are likely to be shopping for new bathing suits. In February demand is likely much less since bathing suits are out of season (assuming this is a company in a region with season). \n",
    "\n",
    "To solve this I would test both campaigns in May using random sampling to seperate the test and trial group"
   ]
  },
  {
   "cell_type": "markdown",
   "metadata": {},
   "source": [
    "### 2. You open a clinic to treat anxiety and find that the people who visit show a higher rate of anxiety than the general population.\n",
    "\n",
    "This study sounds like it is trying to identify how effective the clinic is at treating anxiety. They are trying to use the general population as the control group and the visitors as the treatment. This however provides skewed results because people only visit anxiety clinics if they are already struggling with the symptoms. \n",
    "\n",
    "A more accurate study could use visitors to the clinic as the sample. The treatment group would actually receive treatment from the clinic while the control group would report their anxiety levels to not receive treatment for the duration of the trial. After the trial the level of anxiety of each patient would be compared to their anxiety when they first visity the clinic. The change in anxiety would be compared in a T-Test. \n",
    "\n",
    "You could also create a random sample of population near the clinic and ask the treatment subset to receive treatment which the control did not. This would get at the impact of anxiety treatment on general population not just people with anxiety. "
   ]
  },
  {
   "cell_type": "markdown",
   "metadata": {},
   "source": [
    "### 3. You launch a new ad billboard based campaign and see an increase in website visits in the first week.\n",
    "\n",
    "I'm assuming that this is describing digital billboards on websites. The issue I am seeing with this is that the website visits are not being directly attributed to the billboards. The question also doesn't identify what normal week-over-week growth looks like for the website. To correct for this type of bias I would compare the week-over-week growth of a week-1 & week-2 to a week-2 & week-3. Once the typical growth is established the growth from week-3 to billboard week-4 could be compared to find billboard related growth. \n",
    "\n",
    "Additionally if its possible to section off visitors who have seen the billboard vs. those who were not served a billboard in the same week could be another way to look at the question."
   ]
  },
  {
   "cell_type": "markdown",
   "metadata": {},
   "source": [
    "### 4. You launch a loyalty program but see no change in visits in the first week\n",
    "\n",
    "With this much information it is unclear whether no-change in visits is good. If number of visits had been declining prior to the implementation of the loyalty program than this was actually a positive change. It also doesn't help to assess the loyalty program by looking at total visits. To zero in on the program it would be better if the metric being tested was visits from returning customers. The study would compare the total visits from returning customers or total purchases from returning customers. Or could compare percent of visits from loyal custumors before and after the program began. \n",
    "\n",
    "Without making these adjustments a sudden drop in new custumer acquisitions may disguise improvements from repeat customers. "
   ]
  }
 ],
 "metadata": {
  "kernelspec": {
   "display_name": "Python 3",
   "language": "python",
   "name": "python3"
  },
  "language_info": {
   "codemirror_mode": {
    "name": "ipython",
    "version": 3
   },
   "file_extension": ".py",
   "mimetype": "text/x-python",
   "name": "python",
   "nbconvert_exporter": "python",
   "pygments_lexer": "ipython3",
   "version": "3.6.4"
  }
 },
 "nbformat": 4,
 "nbformat_minor": 2
}
