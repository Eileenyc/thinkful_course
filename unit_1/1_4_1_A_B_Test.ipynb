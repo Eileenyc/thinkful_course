{
 "cells": [
  {
   "cell_type": "markdown",
   "metadata": {},
   "source": [
    "# 1.4.1 A/B Tests\n",
    "1. Does a new supplement help people sleep better?\n",
    "2. Will new uniforms help a gym's business?\n",
    "3. Will a new homepage improve my online exotic pet rental business?\n",
    "4. If I put 'please read' in the email subject will more people read my emails?"
   ]
  },
  {
   "cell_type": "markdown",
   "metadata": {},
   "source": [
    "### 1. Does a new supplement help people sleep better?\n",
    "\n",
    "**Sample**: Collection of volunteers with problems sleeping. Would probably try to make it representative of different age, gender, ethnicity. Would want a baseline of their observed sleep.  \n",
    "\n",
    "**Control**: Recieve placebo  \n",
    "\n",
    "**Treatment**: Receive supplement  \n",
    "\n",
    "**Hypothesis**: Recipients of the sleep supplement will increase their hours asleep.  \n",
    "\n",
    "**Outcome of Interest/Key Metric**: Could be hours sleep or number of times waking up each night  \n",
    "\n",
    "\n",
    "To quantitatively test this would run a t-test comparing avg increase in hours sleeping for control group and sample. The p-value would express how reliable the change in sleep time is. \n",
    "\n",
    "\n"
   ]
  },
  {
   "cell_type": "markdown",
   "metadata": {},
   "source": [
    "### 2. Will new uniforms help a gym's business?\n",
    "\n",
    "**Sample**: Assuming the gym is a chain. select two gyms in similar locations/with similar clientel. Sample will be days during the study. Could also be days with the uniform and days without the uniform a the same gym.   \n",
    "\n",
    "**Control**: Continues with old uniform  \n",
    "\n",
    "**Treatment**: Employees where new uniform  \n",
    "\n",
    "**Hypothesis**: New uniform will increase number of new signups at a gym. \n",
    "\n",
    "**Outcome of Interest/Key Metric**: Number of new gym members  \n",
    "\n",
    "\n",
    "t-test comparing number of new gym members during 1-month at new gym vs. 1 month at old gym. \n",
    "\n"
   ]
  },
  {
   "cell_type": "markdown",
   "metadata": {},
   "source": [
    "### 3. Will a new homepage improve my pet rental business?\n",
    "\n",
    "**Sample**: Vistors to website during a week  \n",
    "\n",
    "**Control**: View old site\n",
    "\n",
    "**Treatment**: View new site  \n",
    "\n",
    "**Hypothesis**: Visitors on the new site will purchase more frequently\n",
    "\n",
    "**Outcome of Interest/Key Metric**: conversion rate  \n",
    "\n",
    "\n",
    "t-test comparing conversion rate of new site each day of week and conversion rate of old site for each day of the wee.  \n",
    "\n"
   ]
  },
  {
   "cell_type": "markdown",
   "metadata": {},
   "source": [
    "### 4. If I put 'please read' in the email subject will more people read my emails?\n",
    "\n",
    "**Sample**: All recipients of the emails during an assigned time period. Each day an email is sent being a trial.   \n",
    "\n",
    "**Control**: Recipiants who receive emails that do not say 'please read'   \n",
    "\n",
    "**Treatment**: Recipiants of emails with 'Please read' in the subject typle  \n",
    "\n",
    "**Hypothesis**: Including 'Please read' in the subject will increase the open rate of emails by x percent. \n",
    "\n",
    "**Outcome of Interest/Key Metric**: open rate of emails (or could use increase in open rate)  \n",
    "\n",
    "\n",
    "t-test comparing open rate of emails sent with 'Please read' and those sent without 'Please read' "
   ]
  }
 ],
 "metadata": {
  "kernelspec": {
   "display_name": "Python 3",
   "language": "python",
   "name": "python3"
  },
  "language_info": {
   "codemirror_mode": {
    "name": "ipython",
    "version": 3
   },
   "file_extension": ".py",
   "mimetype": "text/x-python",
   "name": "python",
   "nbconvert_exporter": "python",
   "pygments_lexer": "ipython3",
   "version": "3.6.4"
  }
 },
 "nbformat": 4,
 "nbformat_minor": 2
}
