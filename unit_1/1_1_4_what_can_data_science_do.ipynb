{
 "cells": [
  {
   "cell_type": "markdown",
   "metadata": {},
   "source": [
    "# 1.1.4. What Can Data Science Do?"
   ]
  },
  {
   "cell_type": "markdown",
   "metadata": {},
   "source": [
    "### 1. You work at an e-commerce company that sells three goods: widgets, doodads, and fizzbangs.  The head of advertising asks you which they should feature in their new advertising campaign. You have data on individual visitors' sessions (activity on a website, pageviews, and purchases), as well as whether or not those users converted from an advertisement for that session. You also have the cost and price information for the goods."
   ]
  },
  {
   "cell_type": "markdown",
   "metadata": {},
   "source": [
    "Should widgets, doodads, or fizzbangs be featured in next ad campaign?\n",
    "\n",
    "Available Data:\n",
    "Visitor Level\n",
    "* Visitor level activity on website\n",
    "* Pageviews\n",
    "* Purchases\n",
    "* Whether users came to site through ad\n",
    "\n",
    "\n",
    "Goods: Cost & Price\n"
   ]
  },
  {
   "cell_type": "markdown",
   "metadata": {},
   "source": [
    "First I would confirm the success metric for the campaign is return on investment (sometimes it can be visits). I'd also want to see if the products had different margins (cost-price) and popularity levels.  \n",
    "Users who converted from an ad would be a good target to examine more closely. I would want to see if this was their first time on the site and if they are first time customers. \n",
    "\n",
    "I'd also want to see if the ad they viewed matched the product that the customer eventually purchased. If one product has a better conversion rate that can be supported with a t-test that could be the best choice. \n",
    "\n",
    "If there is a correlation between visitor activity/pageviews of a product and actual purchases, I my choose the product with the greatest margin or lowest customer awareness to give it a bump.\n"
   ]
  },
  {
   "cell_type": "markdown",
   "metadata": {},
   "source": [
    "### 2. You work at a web design company that offers to build websites for clients. Signups have slowed, and you are tasked with finding out why. The onboarding funnel has three steps: email and password signup, plan choice, and payment. On a user level you have information on what steps they have completed as well as timestamps for all of those events for the past 3 years. You also have information on marketing spend on a weekly level."
   ]
  },
  {
   "cell_type": "markdown",
   "metadata": {},
   "source": [
    "3 step onboarding funnel: password signup, plan choice, payment\n",
    "\n",
    "User info: steps they have completed, timestampls of all of those events for the past 3 years, marketing spend on a weekly."
   ]
  },
  {
   "cell_type": "markdown",
   "metadata": {},
   "source": [
    "First I would want to see if there is a correlation between number of clients making it through the funnel and marketing spend and if the marketing campaigns link to any specific step in the funnel. If the number of people even entering the funnel has dipped and it is correlated with marketing spend then that is a quick answer to the question. \n",
    "\n",
    "If the number of people entering the funnel has not declined I would want to see if there is a step in the funnel that is leaking more than usual by comparing a high sales week with the same level of funnel entry as a recent week. If the conversation rate between step1 & step 2 or step 2 & step 3 has a sharp decline from the more successful week this would focus in on where the leakage is. \n",
    "\n",
    "I would also want to look at median time to convert between funnel steps. The time between funnel steps most likely has a pretty long right tail so median would be more appropriate than average. If median time to convert has lengthed \n",
    "on a leaky step it may be that clients are missing informatino and those that are able to find the info eventually convert but the time looking for the info may be allowing for the leaking. \n"
   ]
  },
  {
   "cell_type": "markdown",
   "metadata": {},
   "source": [
    "### 3. You work at a hotel website and currently the website ranks search results by price. For simplicity's sake, let's say it's a website for one city with 100 hotels. You are tasked with proposing a better ranking system. You have session information, price information for the hotels, and whether each hotel is currently available."
   ]
  },
  {
   "cell_type": "markdown",
   "metadata": {},
   "source": [
    "First of all I would put hotels without vacancy for the time of the visitors trip at the bottom/off the list (depending on how sparse the list is when they are filtered out).\n",
    "\n",
    "I'm assuming that the website is making money through ads/some kind of finders fee for customers they are able to funnel to hotels. It's not clear if the hotel website has a view into visitors who actually go on to book but they will have the ability to see which visitors click links that bring them to the hotel website as a proxy for engagement with the hotel. \n",
    "\n",
    "I would rank based on popularity and conversion to the hotels site. If a listing is popular but has a low conversion rate I would push them further down the list unless you are trying to get vistors to spend more time on the site. "
   ]
  },
  {
   "cell_type": "markdown",
   "metadata": {},
   "source": [
    "### 4. You work at a social network, and the management is worried about churn (users stopping using the product). You are tasked with finding out if their churn is atypical. You have three years of data for users with an entry for every time they've logged in, including the timestamp and length of session."
   ]
  },
  {
   "cell_type": "markdown",
   "metadata": {},
   "source": [
    "This is easier if they have defined churn as specifically cancelling. If its not cancelling you will have to define what level of inactivity/decline in activity counts as churn. So it may be not using the network for 1-month counts as churn. \n",
    "\n",
    "Additionally it will be important to compare subscribers at similar points in their lifecycle. With many services initial engagement may be relatively high while the service is novel. Level of engagement may also depend on how large the person's network already on the site is. \n",
    "\n",
    "You could find the churn rate of subscribers in the past month segmented by months or weeks on the platform and compare those churn numbers to the same metrics last year in the same month. If the churn rate seems to be pretty close its possible the network as a whole is at a maturity level that lends to more innactivity. Is the rate of new signups decreasing? \n"
   ]
  }
 ],
 "metadata": {
  "kernelspec": {
   "display_name": "Python 3",
   "language": "python",
   "name": "python3"
  },
  "language_info": {
   "codemirror_mode": {
    "name": "ipython",
    "version": 3
   },
   "file_extension": ".py",
   "mimetype": "text/x-python",
   "name": "python",
   "nbconvert_exporter": "python",
   "pygments_lexer": "ipython3",
   "version": "3.6.4"
  }
 },
 "nbformat": 4,
 "nbformat_minor": 2
}
