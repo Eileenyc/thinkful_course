{
 "cells": [
  {
   "cell_type": "markdown",
   "metadata": {},
   "source": [
    "# [1.3.6 Data cleaning & Validation](https://courses.thinkful.com/data-201v1/project/1.3.6)"
   ]
  },
  {
   "cell_type": "code",
   "execution_count": 27,
   "metadata": {},
   "outputs": [],
   "source": [
    "import pandas as pd\n",
    "import re\n",
    "import numpy as np\n",
    "\n",
    "from scipy.stats.mstats import winsorize"
   ]
  },
  {
   "cell_type": "markdown",
   "metadata": {},
   "source": [
    "Data cleaning is definitely a \"practice makes perfect\" skill. Using this dataset of article open-access prices paid by the [WELLCOME Trust between 2012 and 2013](https://www.dropbox.com/s/pl5kcrhs2lyj90m/WELLCOME.zip?dl=0), determine the five most common journals and the total articles for each. Next, calculate the mean, median, and standard deviation of the open-access cost per article for each journal . You will need to do considerable data cleaning in order to extract accurate estimates, and may want to look into data [encoding methods](https://stackoverflow.com/questions/2241348/what-is-unicode-utf-8-utf-16) if you get stuck. For a real bonus round, identify the open access prices paid by subject area.\n",
    "\n",
    "As noted in the previous assignment, don't modify the data directly. Instead, write a cleaning script that will load the raw data and whip it into shape. Jupyter notebooks are a great format for this. Keep a record of your decisions: well-commented code is a must for recording your data cleaning decision-making progress. Submit a link to your script and results below and discuss it with your mentor at your next session."
   ]
  },
  {
   "cell_type": "code",
   "execution_count": 2,
   "metadata": {},
   "outputs": [],
   "source": [
    "# import data, 'iso-8859-15'\n",
    "dt_oac = pd.DataFrame(pd.read_csv('unit_1_data/APCspend2013.csv', encoding='Latin1'))\n",
    "\n",
    "# Make the columns more aggreeable\n",
    "dt_oac.rename(columns={'COST (£) charged to Wellcome (inc VAT when charged)':'cost'}, inplace=True)\n",
    "dt_oac.columns = dt_oac.columns.str.strip().str.lower().str.replace(' ', '_')\n",
    "\n",
    "# I won't be able to calculate cost when prices are listed as a string included a symbol for pound\n",
    "dt_oac.cost = dt_oac.cost.str[1:]\n",
    "dt_oac.cost = dt_oac.cost.replace('$','')"
   ]
  },
  {
   "cell_type": "code",
   "execution_count": 3,
   "metadata": {},
   "outputs": [
    {
     "name": "stdout",
     "output_type": "stream",
     "text": [
      "unique publishers: 299\n",
      "unique journal title: 985\n"
     ]
    },
    {
     "data": {
      "text/plain": [
       "1226"
      ]
     },
     "execution_count": 3,
     "metadata": {},
     "output_type": "execute_result"
    }
   ],
   "source": [
    "# Look at counts without cleaning\n",
    "print('unique publishers: {}'.format(len(dt_oac.publisher.unique())))\n",
    "print('unique journal title: {}'.format(len(dt_oac.journal_title.unique()))) \n",
    "len(dt_oac.groupby(['publisher','journal_title']))"
   ]
  },
  {
   "cell_type": "code",
   "execution_count": 4,
   "metadata": {},
   "outputs": [],
   "source": [
    "# all lower case and replace spaces with underscores\n",
    "dt_oac['publisher'] = dt_oac['publisher'].str.strip().str.lower()\n",
    "dt_oac['journal_title'] = dt_oac['journal_title'].str.strip().str.lower()\n",
    "dt_oac['article_title'] = dt_oac['article_title'].str.strip().str.lower()\n",
    "\n",
    "# Remove Duplicates\n",
    "dt_oac = dt_oac.drop_duplicates()\n",
    "# I wasn't able to use string functions on series with NA and there was one na in journal title\n",
    "# Dropped that row when i couldn't guess which journal it belonged to\n",
    "dt_oac = dt_oac[dt_oac.journal_title.notnull()]"
   ]
  },
  {
   "cell_type": "code",
   "execution_count": 6,
   "metadata": {},
   "outputs": [
    {
     "name": "stdout",
     "output_type": "stream",
     "text": [
      "unique publishers: 253\n",
      "unique journal title: 894\n"
     ]
    }
   ],
   "source": [
    "# Look at counts without cleaning\n",
    "print('unique publishers: {}'.format(len(dt_oac.publisher.unique())))\n",
    "print('unique journal title: {}'.format(len(dt_oac.journal_title.unique()))) \n"
   ]
  },
  {
   "cell_type": "code",
   "execution_count": 5,
   "metadata": {},
   "outputs": [
    {
     "data": {
      "text/plain": [
       "pmid/pmcid       198\n",
       "publisher          0\n",
       "journal_title      0\n",
       "article_title      0\n",
       "cost               0\n",
       "dtype: int64"
      ]
     },
     "execution_count": 5,
     "metadata": {},
     "output_type": "execute_result"
    }
   ],
   "source": [
    "# Checking for missing values\n",
    "#df.isnull()\n",
    "#df.dropna()\n",
    "#df.fillna(value = 'NA')\n",
    "dt_oac.isnull().sum()"
   ]
  },
  {
   "cell_type": "code",
   "execution_count": 159,
   "metadata": {
    "collapsed": true
   },
   "outputs": [
      ],
      "text/plain": [
      ]
     },
     "execution_count": 159,
     "metadata": {},
     "output_type": "execute_result"
    }
   ],
   "source": [
    "dt_oac.groupby('publisher').count()"
   ]
  },
  {
   "cell_type": "markdown",
   "metadata": {},
   "source": [
    "I started by cleaning up some of the most common publishers. Since there are so many similarly titled journals it would help to confirm that whether the journals were atleast from a the same publisher before adjusting how they are written"
   ]
  },
  {
   "cell_type": "code",
   "execution_count": 6,
   "metadata": {},
   "outputs": [],
   "source": [
    "# the syntax here filters publishers to instances where the string includes any of the substrings listed\n",
    "# and replaces the entire cell\n",
    "\n",
    "\n",
    "dt_oac.loc[dt_oac['publisher'].str.contains('acs|american chemical society'),\n",
    "           'publisher']='american chemical society'\n",
    "dt_oac.loc[dt_oac['journal_title'].str.contains('j med chem|journal of medical chemistry'),\n",
    "           'journal_title']='journal of medicinal chemistry'\n",
    "dt_oac.loc[dt_oac['publisher'].str.contains('wiley|blackwell'), \n",
    "           'publisher']='wiley-blackwell'\n",
    "dt_oac.loc[dt_oac['publisher'].str.contains('wolter|kluwer'), \n",
    "           'publisher']='wolters kluwer'\n",
    "dt_oac.loc[dt_oac['publisher'].str.contains('asbmb|american soc for biochemistry|american society for biochemistry'), \n",
    "           'publisher']='american society for biochemistry'\n",
    "dt_oac.loc[dt_oac['publisher'].str.contains('springer|veriag'), \n",
    "           'publisher']='springer-veriag'\n",
    "dt_oac.loc[dt_oac['publisher'].str.contains('asm'), \n",
    "           'publisher']='american society for microbiology'\n",
    "dt_oac.loc[dt_oac['publisher'].str.contains('the company of bio'), \n",
    "           'publisher']='the company of biologists'\n",
    "dt_oac.loc[dt_oac['publisher'].str.contains('biomed central|bmc'), \n",
    "           'publisher']='biomed central limited'\n",
    "dt_oac.loc[dt_oac['publisher'].str.contains('taylor|francis|t&f'), \n",
    "           'publisher']='taylor & francis'\n",
    "dt_oac.loc[dt_oac['publisher'].str.contains('the end'), \n",
    "           'publisher']='the endocrine society'\n",
    "dt_oac.loc[dt_oac['publisher'].str.contains('american society of heamatology|american society of hamatology|haematology'), \n",
    "           'publisher']='american society of hematology'\n",
    "dt_oac.loc[dt_oac['publisher'].str.contains('american psychiatric'), \n",
    "           'publisher']='american psychiatric'\n",
    "dt_oac.loc[dt_oac['publisher'].str.contains('nature'), \n",
    "           'publisher']='nature publishing group'\n",
    "dt_oac.loc[dt_oac['publisher'].str.contains('elsevier'), \n",
    "           'publisher']='elsevier'\n",
    "dt_oac.loc[dt_oac['publisher'].str.contains('oup|oxford'), \n",
    "           'publisher']='oxford university press'\n",
    "dt_oac.loc[dt_oac['publisher'].str.contains('bmj'), \n",
    "           'publisher']='british medical journal'\n",
    "dt_oac.loc[dt_oac['publisher'].str.contains('plos'), \n",
    "           'publisher']='public library of science'"
   ]
  },
  {
   "cell_type": "code",
   "execution_count": 7,
   "metadata": {},
   "outputs": [
    {
     "name": "stdout",
     "output_type": "stream",
     "text": [
      "unique publishers: 165\n",
      "unique journal title: 892\n"
     ]
    }
   ],
   "source": [
    "# Look at counts without cleaning\n",
    "print('unique publishers: {}'.format(len(dt_oac.publisher.unique())))\n",
    "print('unique journal title: {}'.format(len(dt_oac.journal_title.unique()))) "
   ]
  },
  {
   "cell_type": "markdown",
   "metadata": {},
   "source": [
    "To check how the consistant the publisher names are I counted publisher title"
   ]
  },
  {
   "cell_type": "code",
   "execution_count": 7,
   "metadata": {
    "scrolled": true
   },
   "outputs": [
    {
     "data": {
      "text/html": [
 ]
     },
     "execution_count": 7,
     "metadata": {},
     "output_type": "execute_result"
    }
   ],
   "source": [
    "dt_oac.groupby(['journal_title']).count()#.sort_values(by='article_title', ascending=False)"
   ]
  },
  {
   "cell_type": "code",
   "execution_count": 8,
   "metadata": {},
   "outputs": [],
   "source": [
    "dt_oac.loc[dt_oac['journal_title'].str.contains('plosone'), \n",
    "           'journal_title']='plos one'\n",
    "dt_oac.loc[dt_oac['journal_title'].str.contains('trop med int health'), \n",
    "           'journal_title']='tropical medicine and international health'\n",
    "dt_oac.loc[dt_oac['journal_title'].str.contains(\n",
    "    'acta crystallographica section d|section d|acta d|biological crystallography|acta crystallography d'), \n",
    "           'journal_title']='acta crystallographica section d'\n",
    "dt_oac.loc[dt_oac['journal_title'].str.contains(\n",
    "    'acta crystallographica section f|section f|acta f|structural biology and crystallization communications'), \n",
    "           'journal_title']='acta crystallographica section f'\n",
    "dt_oac.loc[dt_oac['journal_title'].str.contains('hbm'), \n",
    "           'journal_title']='human brain mapping'\n",
    "dt_oac.loc[dt_oac['journal_title'].str.contains('dev. world bioeth'), \n",
    "           'journal_title']='developing world bioethics'\n",
    "dt_oac.loc[dt_oac['journal_title'].str.contains('bmj'), \n",
    "           'journal_title']='british medical journal'\n",
    "dt_oac.loc[dt_oac['journal_title'].str.contains('acquired immune deficiency|jaids'), \n",
    "           'journal_title']='journal of acquired immune deficiency'"
   ]
  },
  {
   "cell_type": "code",
   "execution_count": 9,
   "metadata": {},
   "outputs": [],
   "source": [
    "dt_oac.loc[dt_oac['journal_title'].str.contains('curr biol.'), \n",
    "           'journal_title']='current biology'\n",
    "dt_oac.loc[dt_oac['journal_title'].str.contains('dev world bioeth'), \n",
    "           'journal_title']='developing world bioethics'\n",
    "dt_oac.loc[dt_oac['journal_title'].str.contains('embo'), \n",
    "           'journal_title']='embo molecular medicine'\n",
    "dt_oac.loc[dt_oac['journal_title'].str.contains('epigen'), \n",
    "           'journal_title']='epigenetics'\n",
    "dt_oac.loc[dt_oac['journal_title'].str.contains('european journal of immunology'), \n",
    "           'journal_title']='european journal of immunology'\n",
    "dt_oac.loc[dt_oac['journal_title'].str.contains('journal of virol'), \n",
    "           'journal_title']='journal of virology'\n",
    "dt_oac.loc[dt_oac['journal_title'].str.contains('mbio'), \n",
    "           'journal_title']='matrix biology'\n",
    "dt_oac.loc[dt_oac['journal_title'].str.contains('molecular bio'), \n",
    "           'journal_title']='journal of molecular biology'\n",
    "dt_oac.loc[dt_oac['journal_title'].str.contains('pnas|proc natl|national academy of sciences'), \n",
    "           'journal_title']='proceedings of national academy of sciences'\n",
    "dt_oac.loc[dt_oac['journal_title'].str.contains('royal society|proceedings b'), \n",
    "           'journal_title']='proceedings of royal society'\n",
    "dt_oac.loc[dt_oac['journal_title'].str.contains('sci rep|scientific reports-11-00861b'), \n",
    "           'journal_title']='scientific reports'\n",
    "dt_oac.loc[dt_oac['journal_title'].str.contains('social psychiatry and psychiatric epidemiol'), \n",
    "           'journal_title']='social psychiatry and psychiatric epidemiology'"
   ]
  },
  {
   "cell_type": "code",
   "execution_count": 17,
   "metadata": {},
   "outputs": [
    {
     "name": "stdout",
     "output_type": "stream",
     "text": [
      "unique publishers: 165\n",
      "unique journal title: 802\n"
     ]
    }
   ],
   "source": [
    "# Look at counts \n",
    "print('unique publishers: {}'.format(len(dt_oac.publisher.unique())))\n",
    "print('unique journal title: {}'.format(len(dt_oac.journal_title.unique()))) \n"
   ]
  },
  {
   "cell_type": "code",
   "execution_count": 10,
   "metadata": {},
   "outputs": [],
   "source": [
    "#removed 'the' from journal title, entry was inconsistant\n",
    "dt_oac['journal_title'] = dt_oac['journal_title'].apply(lambda x: x.replace('the ', ''))\n",
    "\n",
    "#some users had been using 'j ' to represent journal of, replaced to make more consistent\n",
    "dt_oac['journal_title'] = dt_oac['journal_title'].apply(lambda x: x.replace('j ', 'journal of '))\n",
    "dt_oac['journal_title'] = dt_oac['journal_title'].apply(lambda x: x.replace('jnl', 'journal of '))\n",
    "\n",
    "#some users had been using 'j ' to represent journal of, replaced to make more consistent\n",
    "dt_oac['journal_title'] = dt_oac['journal_title'].apply(lambda x: x.replace('americal', 'american'))\n",
    "#dt_oac['journal_title'] = dt_oac['journal_title'].apply(lambda x: x.replace('trop ' , 'tropical'))\n",
    "dt_oac['journal_title'] = dt_oac['journal_title'].apply(lambda x: x.replace('am journal', 'american journal'))\n",
    "dt_oac['journal_title'] = dt_oac['journal_title'].apply(lambda x: x.replace('vet.', 'veterinary'))\n",
    "dt_oac['journal_title'] = dt_oac['journal_title'].apply(lambda x: x.replace('biol ', 'biological '))\n",
    "dt_oac['journal_title'] = dt_oac['journal_title'].apply(lambda x: x.replace('chem ', 'chemistry '))\n",
    "dt_oac['journal_title'] = dt_oac['journal_title'].apply(lambda x: x.replace('chem. ', 'chemistry '))\n",
    "dt_oac['journal_title'] =dt_oac['journal_title'].apply(lambda x: x.replace(\n",
    "    'plos ', 'public library of science '))\n",
    "dt_oac['journal_title'] = dt_oac['journal_title'].apply(lambda x: x.replace('mol ', 'molecular '))\n",
    "dt_oac['journal_title'] = dt_oac['journal_title'].apply(lambda x: x.replace('infect ', 'infectious '))\n",
    "dt_oac['journal_title'] = dt_oac['journal_title'].apply(lambda x: x.replace('eur ', 'european'))\n",
    "dt_oac['journal_title'] = dt_oac['journal_title'].apply(lambda x: x.replace('&', 'and'))\n",
    "dt_oac['journal_title'] = dt_oac['journal_title'].apply(lambda x: x.replace('experiements', 'experiments'))\n",
    "dt_oac['journal_title'] = dt_oac['journal_title'].apply(lambda x: x.replace('ntd', 'neglected tropical disease'))\n",
    "dt_oac['journal_title'] = dt_oac['journal_title'].apply(lambda x: x.replace('1', 'one'))\n",
    "# I have to add spaces after these switches for circumstances they are at the end of the journal title\n",
    "dt_oac['journal_title'] = dt_oac['journal_title'].str.strip().str.lower()\n"
   ]
  },
  {
   "cell_type": "code",
   "execution_count": 19,
   "metadata": {},
   "outputs": [
    {
     "name": "stdout",
     "output_type": "stream",
     "text": [
      "unique publishers: 165\n",
      "unique journal title: 802\n"
     ]
    }
   ],
   "source": [
    "# Look at counts without cleaning\n",
    "print('unique publishers: {}'.format(len(dt_oac.publisher.unique())))\n",
    "print('unique journal title: {}'.format(len(dt_oac.journal_title.unique()))) "
   ]
  },
  {
   "cell_type": "markdown",
   "metadata": {},
   "source": [
    "### 1. Find top five journals & 2. Find total articles for each"
   ]
  },
  {
   "cell_type": "code",
   "execution_count": 12,
   "metadata": {
    "scrolled": true
   },
   "outputs": [
    {
     "data": {
      "text/html": [
       "<div>\n",
       "<style scoped>\n",
       "    .dataframe tbody tr th:only-of-type {\n",
       "        vertical-align: middle;\n",
       "    }\n",
       "\n",
       "    .dataframe tbody tr th {\n",
       "        vertical-align: top;\n",
       "    }\n",
       "\n",
       "    .dataframe thead th {\n",
       "        text-align: right;\n",
       "    }\n",
       "</style>\n",
       "<table border=\"1\" class=\"dataframe\">\n",
       "  <thead>\n",
       "    <tr style=\"text-align: right;\">\n",
       "      <th></th>\n",
       "      <th>article_title</th>\n",
       "    </tr>\n",
       "    <tr>\n",
       "      <th>journal_title</th>\n",
       "      <th></th>\n",
       "    </tr>\n",
       "  </thead>\n",
       "  <tbody>\n",
       "    <tr>\n",
       "      <th>public library of science one</th>\n",
       "      <td>207</td>\n",
       "    </tr>\n",
       "    <tr>\n",
       "      <th>journal of biological chemistry</th>\n",
       "      <td>61</td>\n",
       "    </tr>\n",
       "    <tr>\n",
       "      <th>proceedings of national academy of sciences</th>\n",
       "      <td>40</td>\n",
       "    </tr>\n",
       "    <tr>\n",
       "      <th>neuroimage</th>\n",
       "      <td>29</td>\n",
       "    </tr>\n",
       "    <tr>\n",
       "      <th>nucleic acids research</th>\n",
       "      <td>26</td>\n",
       "    </tr>\n",
       "  </tbody>\n",
       "</table>\n",
       "</div>"
      ],
      "text/plain": [
       "                                             article_title\n",
       "journal_title                                             \n",
       "public library of science one                          207\n",
       "journal of biological chemistry                         61\n",
       "proceedings of national academy of sciences             40\n",
       "neuroimage                                              29\n",
       "nucleic acids research                                  26"
      ]
     },
     "execution_count": 12,
     "metadata": {},
     "output_type": "execute_result"
    }
   ],
   "source": [
    "top_journals = pd.DataFrame(dt_oac.groupby(\n",
    "    ['journal_title'])['article_title'].count().sort_values(ascending=False).head())\n",
    "top_journals"
   ]
  },
  {
   "cell_type": "markdown",
   "metadata": {},
   "source": [
    "### 3. Calculate mean, median and standard deviation of the open-access cost per article for each journal"
   ]
  },
  {
   "cell_type": "code",
   "execution_count": 13,
   "metadata": {
    "scrolled": true
   },
   "outputs": [
    {
     "data": {
      "text/html": [
       "<div>\n",
       "<style scoped>\n",
       "    .dataframe tbody tr th:only-of-type {\n",
       "        vertical-align: middle;\n",
       "    }\n",
       "\n",
       "    .dataframe tbody tr th {\n",
       "        vertical-align: top;\n",
       "    }\n",
       "\n",
       "    .dataframe thead th {\n",
       "        text-align: right;\n",
       "    }\n",
       "</style>\n",
       "<table border=\"1\" class=\"dataframe\">\n",
       "  <thead>\n",
       "    <tr style=\"text-align: right;\">\n",
       "      <th></th>\n",
       "      <th>max</th>\n",
       "      <th>mean</th>\n",
       "      <th>median</th>\n",
       "      <th>min</th>\n",
       "      <th>std</th>\n",
       "    </tr>\n",
       "    <tr>\n",
       "      <th>journal_title</th>\n",
       "      <th></th>\n",
       "      <th></th>\n",
       "      <th></th>\n",
       "      <th></th>\n",
       "      <th></th>\n",
       "    </tr>\n",
       "  </thead>\n",
       "  <tbody>\n",
       "    <tr>\n",
       "      <th>journal of biological chemistry</th>\n",
       "      <td>999999.00</td>\n",
       "      <td>17784.752623</td>\n",
       "      <td>1324.57</td>\n",
       "      <td>265.67</td>\n",
       "      <td>127856.215554</td>\n",
       "    </tr>\n",
       "    <tr>\n",
       "      <th>neuroimage</th>\n",
       "      <td>2503.34</td>\n",
       "      <td>2215.168276</td>\n",
       "      <td>2326.43</td>\n",
       "      <td>1747.16</td>\n",
       "      <td>266.653947</td>\n",
       "    </tr>\n",
       "    <tr>\n",
       "      <th>nucleic acids research</th>\n",
       "      <td>2184.00</td>\n",
       "      <td>1149.000000</td>\n",
       "      <td>852.00</td>\n",
       "      <td>710.00</td>\n",
       "      <td>442.940447</td>\n",
       "    </tr>\n",
       "    <tr>\n",
       "      <th>proceedings of national academy of sciences</th>\n",
       "      <td>999999.00</td>\n",
       "      <td>25818.861250</td>\n",
       "      <td>742.92</td>\n",
       "      <td>206.32</td>\n",
       "      <td>157981.566997</td>\n",
       "    </tr>\n",
       "    <tr>\n",
       "      <th>public library of science one</th>\n",
       "      <td>999999.00</td>\n",
       "      <td>40473.267488</td>\n",
       "      <td>900.14</td>\n",
       "      <td>122.31</td>\n",
       "      <td>193312.883195</td>\n",
       "    </tr>\n",
       "  </tbody>\n",
       "</table>\n",
       "</div>"
      ],
      "text/plain": [
       "                                                   max          mean   median  \\\n",
       "journal_title                                                                   \n",
       "journal of biological chemistry              999999.00  17784.752623  1324.57   \n",
       "neuroimage                                     2503.34   2215.168276  2326.43   \n",
       "nucleic acids research                         2184.00   1149.000000   852.00   \n",
       "proceedings of national academy of sciences  999999.00  25818.861250   742.92   \n",
       "public library of science one                999999.00  40473.267488   900.14   \n",
       "\n",
       "                                                 min            std  \n",
       "journal_title                                                        \n",
       "journal of biological chemistry               265.67  127856.215554  \n",
       "neuroimage                                   1747.16     266.653947  \n",
       "nucleic acids research                        710.00     442.940447  \n",
       "proceedings of national academy of sciences   206.32  157981.566997  \n",
       "public library of science one                 122.31  193312.883195  "
      ]
     },
     "execution_count": 13,
     "metadata": {},
     "output_type": "execute_result"
    }
   ],
   "source": [
    "articles = pd.merge(dt_oac, top_journals, how='inner', on=['journal_title', 'journal_title']).reset_index(drop=True)\n",
    "articles.cost = articles.cost.astype('float')\n",
    "pd.pivot_table(articles, columns='journal_title', \n",
    "               values='cost', aggfunc=(min, max, np.mean, np.std, np.median)).transpose()"
   ]
  },
  {
   "cell_type": "markdown",
   "metadata": {},
   "source": [
    "**But the max values look like a mistake, will take 2nd highest value for cost for each journal_title**"
   ]
  },
  {
   "cell_type": "code",
   "execution_count": 63,
   "metadata": {},
   "outputs": [],
   "source": [
    "articles = pd.merge(articles, pd.DataFrame(articles[articles['cost']<5000].groupby('journal_title').max()['cost']), \n",
    "         how='inner', on=['journal_title', 'journal_title'])"
   ]
  },
  {
   "cell_type": "code",
   "execution_count": 65,
   "metadata": {},
   "outputs": [],
   "source": [
    "articles['cost'] = np.where(articles['cost_x']>articles['cost_y'],articles['cost_y'],articles['cost_x'])"
   ]
  },
  {
   "cell_type": "code",
   "execution_count": 67,
   "metadata": {},
   "outputs": [
    {
     "data": {
      "text/html": [
       "<div>\n",
       "<style scoped>\n",
       "    .dataframe tbody tr th:only-of-type {\n",
       "        vertical-align: middle;\n",
       "    }\n",
       "\n",
       "    .dataframe tbody tr th {\n",
       "        vertical-align: top;\n",
       "    }\n",
       "\n",
       "    .dataframe thead th {\n",
       "        text-align: right;\n",
       "    }\n",
       "</style>\n",
       "<table border=\"1\" class=\"dataframe\">\n",
       "  <thead>\n",
       "    <tr style=\"text-align: right;\">\n",
       "      <th></th>\n",
       "      <th>max</th>\n",
       "      <th>mean</th>\n",
       "      <th>median</th>\n",
       "      <th>min</th>\n",
       "      <th>std</th>\n",
       "    </tr>\n",
       "    <tr>\n",
       "      <th>journal_title</th>\n",
       "      <th></th>\n",
       "      <th></th>\n",
       "      <th></th>\n",
       "      <th></th>\n",
       "      <th></th>\n",
       "    </tr>\n",
       "  </thead>\n",
       "  <tbody>\n",
       "    <tr>\n",
       "      <th>journal of biological chemistry</th>\n",
       "      <td>2501.07</td>\n",
       "      <td>1432.327541</td>\n",
       "      <td>1324.57</td>\n",
       "      <td>265.67</td>\n",
       "      <td>407.520517</td>\n",
       "    </tr>\n",
       "    <tr>\n",
       "      <th>neuroimage</th>\n",
       "      <td>2503.34</td>\n",
       "      <td>2215.168276</td>\n",
       "      <td>2326.43</td>\n",
       "      <td>1747.16</td>\n",
       "      <td>266.653947</td>\n",
       "    </tr>\n",
       "    <tr>\n",
       "      <th>nucleic acids research</th>\n",
       "      <td>2184.00</td>\n",
       "      <td>1149.000000</td>\n",
       "      <td>852.00</td>\n",
       "      <td>710.00</td>\n",
       "      <td>442.940447</td>\n",
       "    </tr>\n",
       "    <tr>\n",
       "      <th>proceedings of national academy of sciences</th>\n",
       "      <td>2691.68</td>\n",
       "      <td>886.178250</td>\n",
       "      <td>742.92</td>\n",
       "      <td>206.32</td>\n",
       "      <td>536.403873</td>\n",
       "    </tr>\n",
       "    <tr>\n",
       "      <th>public library of science one</th>\n",
       "      <td>1785.36</td>\n",
       "      <td>972.935314</td>\n",
       "      <td>900.14</td>\n",
       "      <td>122.31</td>\n",
       "      <td>257.935505</td>\n",
       "    </tr>\n",
       "  </tbody>\n",
       "</table>\n",
       "</div>"
      ],
      "text/plain": [
       "                                                 max         mean   median  \\\n",
       "journal_title                                                                \n",
       "journal of biological chemistry              2501.07  1432.327541  1324.57   \n",
       "neuroimage                                   2503.34  2215.168276  2326.43   \n",
       "nucleic acids research                       2184.00  1149.000000   852.00   \n",
       "proceedings of national academy of sciences  2691.68   886.178250   742.92   \n",
       "public library of science one                1785.36   972.935314   900.14   \n",
       "\n",
       "                                                 min         std  \n",
       "journal_title                                                     \n",
       "journal of biological chemistry               265.67  407.520517  \n",
       "neuroimage                                   1747.16  266.653947  \n",
       "nucleic acids research                        710.00  442.940447  \n",
       "proceedings of national academy of sciences   206.32  536.403873  \n",
       "public library of science one                 122.31  257.935505  "
      ]
     },
     "execution_count": 67,
     "metadata": {},
     "output_type": "execute_result"
    }
   ],
   "source": [
    "pd.pivot_table(articles, columns='journal_title', \n",
    "               values='cost', aggfunc=(min, max, np.mean, np.std, np.median)).transpose()"
   ]
  }
 ],
 "metadata": {
  "kernelspec": {
   "display_name": "Python 3",
   "language": "python",
   "name": "python3"
  },
  "language_info": {
   "codemirror_mode": {
    "name": "ipython",
    "version": 3
   },
   "file_extension": ".py",
   "mimetype": "text/x-python",
   "name": "python",
   "nbconvert_exporter": "python",
   "pygments_lexer": "ipython3",
   "version": "3.6.4"
  }
 },
 "nbformat": 4,
 "nbformat_minor": 2
}
